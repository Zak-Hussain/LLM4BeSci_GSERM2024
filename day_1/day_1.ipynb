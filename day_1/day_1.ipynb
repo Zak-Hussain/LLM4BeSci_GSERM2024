{
 "cells": [
  {
   "cell_type": "markdown",
   "source": [
    "## Using Notebook Environments \n",
    "1. To run a cell, press `shift + enter`. The notebook will execute the code in the cell and move to the next cell. If the cell contains a markdown cell (text only), it will render the markdown and move to the next cell.\n",
    "2. Since cells can be executed in any order and variables can be over-written, you may at some point feel that you have lost track of the state of your notebook. If this is the case, you can always restart the kernel by clicking Runtime in the menu bar (if you're using Colab) and selecting `Restart runtime`. This will clear all variables and outputs.\n",
    "3. The final variable in a cell will be printed on the screen. If you want to print multiple variables, use the `print()` function as usual.\n",
    "\n",
    "Notebook environments support code cells and markdown cells. For the purposes of this workshop, markdown cells are used to provide high-level explanations of the code. More specific details are provided in the code cells themselves in the form of comments (lines beginning with `#`)"
   ],
   "metadata": {
    "collapsed": false
   },
   "id": "979416b3c30fb86b"
  },
  {
   "cell_type": "markdown",
   "source": [
    "## Environment Setup (run before presentation)"
   ],
   "metadata": {
    "collapsed": false
   },
   "id": "e95bbbdb5e332796"
  },
  {
   "cell_type": "code",
   "execution_count": null,
   "id": "initial_id",
   "metadata": {
    "collapsed": true
   },
   "outputs": [],
   "source": [
    "import sys\n",
    "if 'google.colab' in sys.modules:  # If in Google Colab environment\n",
    "    # Installing requisite packages\n",
    "    !pip install transformers sentence-transformers &> /dev/null\n",
    "\n",
    "    # Mount google drive to enable access to data files\n",
    "    from google.colab import drive\n",
    "    drive.mount('/content/drive')\n",
    "\n",
    "    # Change working directory to health\n",
    "    %cd /content/drive/MyDrive/LLM4BeSci_GSERM2024/day_1"
   ]
  },
  {
   "cell_type": "markdown",
   "source": [
    "We begin by loading the requisite packages. For those coming from R, packages in Python are sometimes given shorter names for use in the code via the `import <name> as <nickname>` syntax (e.g. `import pandas as pd`). These are usually standardized nicknames. We here make use three packages:\n",
    "\n",
    "1. `pandas`: A very popular package for reading and manipulating data in python.\n",
    "2. `sentence_transformers`: A package for extracting features from text data using transformer-based models.\n",
    "3. `transformers`: A HF package for loading and manipulating transformer-based models."
   ],
   "metadata": {
    "collapsed": false
   },
   "id": "290c24c2ed829f80"
  },
  {
   "cell_type": "code",
   "outputs": [],
   "source": [
    " import pandas as pd\n",
    "from sentence_transformers import SentenceTransformer\n",
    "from transformers import pipeline"
   ],
   "metadata": {
    "collapsed": false
   },
   "id": "267fad62d6f82855",
   "execution_count": null
  },
  {
   "cell_type": "code",
   "outputs": [],
   "source": [
    "# Installs relevant models by running pipelines (ignore details here) \n",
    "SentenceTransformer('all-MiniLM-L6-v2')\n",
    "pipeline('zero-shot-classification', model='valhalla/distilbart-mnli-12-1')\n",
    "pipeline('sentiment-analysis', model='distilbert-base-uncased-finetuned-sst-2-english')\n",
    "pipeline('text-generation', model='gpt2')"
   ],
   "metadata": {
    "collapsed": false
   },
   "id": "1a8423f626867855",
   "execution_count": null
  },
  {
   "cell_type": "markdown",
   "source": [
    "**[RUN TILL HERE BEFORE PRESENTATION TO GIVE TIME FOR INSTALLATION]**"
   ],
   "metadata": {
    "collapsed": false
   },
   "id": "e53bb65e802730bd"
  },
  {
   "cell_type": "markdown",
   "source": [
    "## Feature Extraction\n",
    "\n",
    "We will begin by extracting features (numerical representations) from the text data using the `sentence-transformers` package. We will use the following three sentences, stored as a list of strings, as input to the model.:"
   ],
   "metadata": {
    "collapsed": false
   },
   "id": "f6bf097acf12ea11"
  },
  {
   "cell_type": "code",
   "outputs": [],
   "source": [
    "sentences = [\n",
    "    \"I feel great this morning\",\n",
    "    \"I am feeling very good today\",\n",
    "    \"I am feeling terrible\"\n",
    "]"
   ],
   "metadata": {
    "collapsed": false
   },
   "id": "5bd53a737490f788",
   "execution_count": null
  },
  {
   "cell_type": "markdown",
   "source": [
    "We will use the `all-MiniLM-L6-v2` model to extract features from the sentences. The model will encode the sentences into a 384-dimensional vector representation. We will then print the features as a pandas dataframe for easy viewing."
   ],
   "metadata": {
    "collapsed": false
   },
   "id": "9c78b43e1a1456b1"
  },
  {
   "cell_type": "code",
   "outputs": [],
   "source": [
    "# Load the pre-trained model\n",
    "model = SentenceTransformer('all-MiniLM-L6-v2')\n",
    "\n",
    "# Extract features\n",
    "features = model.encode(sentences)\n",
    "\n",
    "# Print the features as a pandas dataframe\n",
    "pd.DataFrame(features, index=sentences)"
   ],
   "metadata": {
    "collapsed": false
   },
   "id": "98ca015d4695f403",
   "execution_count": null
  },
  {
   "cell_type": "markdown",
   "source": [
    "**TASK 1**: Have a scroll through the features. Can you see that the first two sentences are more similar to each other than they are to the third sentence? Why do you think this is the case?\n",
    "\n",
    "**TASK 2**: Try copy-pasting one of the sentences and change a word or two with a synonym and add it to the list of `sentences`. For instance, you could change \"I feel *great* this morning\" to \"I feel *fantastic* this morning\". What do you notice about the features of this new sentence compared to the original?"
   ],
   "metadata": {
    "collapsed": false
   },
   "id": "80664214bd695bf0"
  },
  {
   "cell_type": "markdown",
   "source": [
    "## Text Generation\n",
    "We will now use the `transformers` text generation pipeline. We begin by loading the pipeline with `gpt2`. \n"
   ],
   "metadata": {
    "collapsed": false
   },
   "id": "efc8d5804ede6511"
  },
  {
   "cell_type": "code",
   "outputs": [],
   "source": [
    "pipe = pipeline('text-generation', model='gpt2')"
   ],
   "metadata": {
    "collapsed": false
   },
   "id": "574afec0d0b34779",
   "execution_count": null
  },
  {
   "cell_type": "markdown",
   "source": [
    "We will now generate text based on a prompt. The prompt is a starting point that the model uses to generate text. Since GPT-2 has not been assistant-tuned, it will \"try to\" generate text that is likely to follow the prompt. We set the `max_length` parameter to 100 to limit the length of the generated text to 100 tokens."
   ],
   "metadata": {
    "collapsed": false
   },
   "id": "37b72765249441bd"
  },
  {
   "cell_type": "code",
   "outputs": [],
   "source": [
    "prompt = \"\"\"\n",
    "    Once upon a time in a land far far away, there was a young prince named John. He was known for his bravery and courage. \n",
    "    One day, he decided to go on an adventure to explore the unknown lands.\n",
    "\"\"\"\n",
    "\n",
    "# Generate text based on the prompt\n",
    "output = pipe(prompt, max_length=100)\n",
    "\n",
    "# Print the generated text\n",
    "output[0]['generated_text']"
   ],
   "metadata": {
    "collapsed": false
   },
   "id": "cc96eb23af195ac2",
   "execution_count": null
  },
  {
   "cell_type": "markdown",
   "source": [
    "**TASK 1**: Please enter a new prompt  in the variable `prompt` that you wish the model to continue generating text from. Feel free to play around with the `max_length` parameter to see how it affects the generated text.\n",
    "\n",
    "**TASK 2**: Try replacing `'gpt2'` above with `'gpt2-medium'` or another text generation model on the [HF model hub](https://huggingface.co/models) to see how the generated text changes."
   ],
   "metadata": {
    "collapsed": false
   },
   "id": "d4a24c50147f2cf7"
  },
  {
   "cell_type": "markdown",
   "source": [
    "## Sentiment Analysis "
   ],
   "metadata": {
    "collapsed": false
   },
   "id": "4830e24a5d45430d"
  },
  {
   "cell_type": "markdown",
   "source": [
    "In addition to feature extraction, Hugging Face's `transformers` library provides a high-level API for a variety of other tasks. These tasks can be viewed in the lef-hand panel under \"Natural Language Processing\" on the [HF model hub](https://huggingface.co/models). Many of these tasks include models that have been fine-tuned on specific datasets to perform well on the task at hand. As an example of such a task, we will now use the sentiment analysis pipeline to predict the sentiment of a few sentences.\n",
    "\n",
    "We will now load the `transformers` sentiment analysis pipeline to predict the sentiment of sentences. We will use the same sentences as before."
   ],
   "metadata": {
    "collapsed": false
   },
   "id": "77a8852269ce709d"
  },
  {
   "cell_type": "code",
   "outputs": [],
   "source": [
    "# Define the sentences\n",
    "sentences = [\n",
    "    \"I feel great this morning\",\n",
    "    \"I am feeling very good today\",\n",
    "    \"I am feeling terrible\"\n",
    "]\n",
    "\n",
    "# Load sentiment analysis pipeline\n",
    "pipe = pipeline('sentiment-analysis', model='distilbert-base-uncased-finetuned-sst-2-english')\n",
    "\n",
    "# Predict sentiment of the sentences\n",
    "sentiments = pipe(sentences)\n",
    "\n",
    "# Print the predicted sentiments as a pandas dataframe\n",
    "pd.DataFrame(sentiments, index=sentences)"
   ],
   "metadata": {
    "collapsed": false
   },
   "id": "612fa14857dc0b74",
   "execution_count": null
  },
  {
   "cell_type": "markdown",
   "source": [
    "As you can see, not only doe the model predict the sentiment of the sentences (`'label'`), but it also provides a confidence score for each prediction (`'score'`). "
   ],
   "metadata": {
    "collapsed": false
   },
   "id": "81690eb2b6590715"
  }
 ],
 "metadata": {
  "kernelspec": {
   "display_name": "Python 3",
   "language": "python",
   "name": "python3"
  },
  "language_info": {
   "codemirror_mode": {
    "name": "ipython",
    "version": 2
   },
   "file_extension": ".py",
   "mimetype": "text/x-python",
   "name": "python",
   "nbconvert_exporter": "python",
   "pygments_lexer": "ipython2",
   "version": "2.7.6"
  }
 },
 "nbformat": 4,
 "nbformat_minor": 5
}
