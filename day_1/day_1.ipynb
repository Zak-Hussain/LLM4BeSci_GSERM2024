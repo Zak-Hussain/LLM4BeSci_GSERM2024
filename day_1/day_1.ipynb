{
 "cells": [
  {
   "cell_type": "markdown",
   "source": [
    "## Using Notebook Environments \n",
    "1. To run a cell, press `shift + enter`. The notebook will execute the code in the cell and move to the next cell. If the cell contains a markdown cell (text only), it will render the markdown and move to the next cell.\n",
    "2. Since cells can be executed in any order and variables can be over-written, you may at some point feel that you have lost track of the state of your notebook. If this is the case, you can always restart the kernel by clicking Runtime in the menu bar (if you're using Colab) and selecting `Restart runtime`. This will clear all variables and outputs.\n",
    "3. The final variable in a cell will be printed on the screen. If you want to print multiple variables, use the `print()` function as usual.\n",
    "\n",
    "Notebook environments support code cells and markdown cells. For the purposes of this workshop, markdown cells are used to provide high-level explanations of the code. More specific details are provided in the code cells themselves in the form of comments (lines beginning with `#`)"
   ],
   "metadata": {
    "collapsed": false
   },
   "id": "979416b3c30fb86b"
  },
  {
   "cell_type": "code",
   "execution_count": null,
   "id": "initial_id",
   "metadata": {
    "collapsed": true
   },
   "outputs": [],
   "source": [
    "import sys\n",
    "if 'google.colab' in sys.modules:  # If in Google Colab environment\n",
    "    # Installing requisite packages\n",
    "    !pip install transformers\n",
    "\n",
    "    # Mount google drive to enable access to data files\n",
    "    from google.colab import drive\n",
    "    drive.mount('/content/drive')\n",
    "\n",
    "    # Change working directory to health\n",
    "    %cd /content/drive/MyDrive/LLM4SocBeSci/day_1"
   ]
  },
  {
   "cell_type": "markdown",
   "source": [
    "We begin by loading the requisite packages. For those coming from R, packages in Python are sometimes given shorter names for use in the code via the `import <name> as <nickname>` syntax (e.g. `import pandas as pd`). These are usually standardized nicknames. We here make use two packages:\n",
    "\n",
    "1. `pandas`: A very popular package for reading and manipulating data in python.\n",
    "2. `transformers`: A HF package for loading and manipulating transformer-based models."
   ],
   "metadata": {
    "collapsed": false
   },
   "id": "290c24c2ed829f80"
  },
  {
   "cell_type": "code",
   "outputs": [],
   "source": [
    " import pandas as pd\n",
    "from transformers import pipeline"
   ],
   "metadata": {
    "collapsed": false,
    "ExecuteTime": {
     "end_time": "2024-05-22T08:34:42.947967Z",
     "start_time": "2024-05-22T08:34:38.573547Z"
    }
   },
   "id": "267fad62d6f82855",
   "execution_count": 2
  },
  {
   "cell_type": "markdown",
   "source": [
    "## Sentiment Analysis "
   ],
   "metadata": {
    "collapsed": false
   },
   "id": "4830e24a5d45430d"
  },
  {
   "cell_type": "markdown",
   "source": [
    "The dataset contains 1000 randomly sampled tweets from [Sentiment140](https://www.kaggle.com/datasets/kazanova/sentiment140), collected by [Go et al., (2009)](https://www-cs-faculty.stanford.edu/people/alecmgo/papers/TwitterDistantSupervision09.pdf). It contains two columns:\n",
    "1. `tweet`: The text of the tweet.\n",
    "2. `sentiment`: The sentiment of the tweet (`'POSITIVE'` or `'NEGATIVE'`)"
   ],
   "metadata": {
    "collapsed": false
   },
   "id": "4c20b6332e73ca46"
  },
  {
   "cell_type": "code",
   "outputs": [
    {
     "data": {
      "text/plain": "                                                 tweet sentiment\n0    @JenniferHen ...alk or anything  hope you had ...  POSITIVE\n1    Super hott outsidee! On my way to matamoros 2 ...  POSITIVE\n2    Is updating twitter from her NEW computer  my ...  POSITIVE\n3    hates that i have to work today! i want to be ...  NEGATIVE\n4    @twinsquirrel  me too... nice to have coffee w...  POSITIVE\n..                                                 ...       ...\n995  It's #followfriday so I'm suggesting you follo...  POSITIVE\n996                Jack daniels blew up in the cooler   NEGATIVE\n997  Strawberry Mentos are the BEST!! thanks again ...  POSITIVE\n998                    @shaylay11 awww thats soo saad   NEGATIVE\n999                 @djackmanson We'll see about that   POSITIVE\n\n[1000 rows x 2 columns]",
      "text/html": "<div>\n<style scoped>\n    .dataframe tbody tr th:only-of-type {\n        vertical-align: middle;\n    }\n\n    .dataframe tbody tr th {\n        vertical-align: top;\n    }\n\n    .dataframe thead th {\n        text-align: right;\n    }\n</style>\n<table border=\"1\" class=\"dataframe\">\n  <thead>\n    <tr style=\"text-align: right;\">\n      <th></th>\n      <th>tweet</th>\n      <th>sentiment</th>\n    </tr>\n  </thead>\n  <tbody>\n    <tr>\n      <th>0</th>\n      <td>@JenniferHen ...alk or anything  hope you had ...</td>\n      <td>POSITIVE</td>\n    </tr>\n    <tr>\n      <th>1</th>\n      <td>Super hott outsidee! On my way to matamoros 2 ...</td>\n      <td>POSITIVE</td>\n    </tr>\n    <tr>\n      <th>2</th>\n      <td>Is updating twitter from her NEW computer  my ...</td>\n      <td>POSITIVE</td>\n    </tr>\n    <tr>\n      <th>3</th>\n      <td>hates that i have to work today! i want to be ...</td>\n      <td>NEGATIVE</td>\n    </tr>\n    <tr>\n      <th>4</th>\n      <td>@twinsquirrel  me too... nice to have coffee w...</td>\n      <td>POSITIVE</td>\n    </tr>\n    <tr>\n      <th>...</th>\n      <td>...</td>\n      <td>...</td>\n    </tr>\n    <tr>\n      <th>995</th>\n      <td>It's #followfriday so I'm suggesting you follo...</td>\n      <td>POSITIVE</td>\n    </tr>\n    <tr>\n      <th>996</th>\n      <td>Jack daniels blew up in the cooler</td>\n      <td>NEGATIVE</td>\n    </tr>\n    <tr>\n      <th>997</th>\n      <td>Strawberry Mentos are the BEST!! thanks again ...</td>\n      <td>POSITIVE</td>\n    </tr>\n    <tr>\n      <th>998</th>\n      <td>@shaylay11 awww thats soo saad</td>\n      <td>NEGATIVE</td>\n    </tr>\n    <tr>\n      <th>999</th>\n      <td>@djackmanson We'll see about that</td>\n      <td>POSITIVE</td>\n    </tr>\n  </tbody>\n</table>\n<p>1000 rows × 2 columns</p>\n</div>"
     },
     "execution_count": 3,
     "metadata": {},
     "output_type": "execute_result"
    }
   ],
   "source": [
    "# Loads first 1000 rows from the csv file\n",
    "twitter = pd.read_csv('twitter.csv')\n",
    "twitter['sentiment'] = twitter['sentiment'].replace({0: 'NEGATIVE',  4: 'POSITIVE'})\n",
    "twitter"
   ],
   "metadata": {
    "collapsed": false,
    "ExecuteTime": {
     "end_time": "2024-05-22T08:34:42.970065Z",
     "start_time": "2024-05-22T08:34:42.949075Z"
    }
   },
   "id": "e2f2134950ca0779",
   "execution_count": 3
  },
  {
   "cell_type": "markdown",
   "source": [
    "We can see that the dataset contains relatively balanced classes of positive and negative tweets."
   ],
   "metadata": {
    "collapsed": false
   },
   "id": "9e87f338437cb970"
  },
  {
   "cell_type": "code",
   "outputs": [
    {
     "data": {
      "text/plain": "sentiment\nPOSITIVE    507\nNEGATIVE    493\nName: count, dtype: int64"
     },
     "execution_count": 4,
     "metadata": {},
     "output_type": "execute_result"
    }
   ],
   "source": [
    "# Printing the balance of positive and negative tweets\n",
    "twitter['sentiment'].value_counts()"
   ],
   "metadata": {
    "collapsed": false,
    "ExecuteTime": {
     "end_time": "2024-05-22T08:34:44.640783Z",
     "start_time": "2024-05-22T08:34:44.635563Z"
    }
   },
   "id": "502afa6afe71cfcf",
   "execution_count": 4
  },
  {
   "cell_type": "markdown",
   "source": [
    "We will now load the `transformers` sentiment analysis pipeline to predict the sentiment of the tweets. The pipeline is a high-level API that allows us to easily use pre-trained models for a variety of tasks. In this case, we will use a sentiment fine-tuned version of the DistilBERT model for sentiment analysis."
   ],
   "metadata": {
    "collapsed": false
   },
   "id": "77a8852269ce709d"
  },
  {
   "cell_type": "code",
   "outputs": [],
   "source": [
    "# Load sentiment analysis pipeline\n",
    "pipe = pipeline('sentiment-analysis', model='distilbert-base-uncased-finetuned-sst-2-english')"
   ],
   "metadata": {
    "collapsed": false
   },
   "id": "612fa14857dc0b74",
   "execution_count": null
  },
  {
   "cell_type": "markdown",
   "source": [
    "With the pipeline loaded, we can now use it to predict the sentiment of the tweets. We will use the `tweet` column of the `twitter` dataframe as input to the pipeline."
   ],
   "metadata": {
    "collapsed": false
   },
   "id": "e56f6900724dcc9e"
  },
  {
   "cell_type": "code",
   "outputs": [
    {
     "name": "stderr",
     "output_type": "stream",
     "text": [
      "No model was supplied, defaulted to distilbert-base-uncased-finetuned-sst-2-english and revision af0f99b (https://huggingface.co/distilbert-base-uncased-finetuned-sst-2-english).\n",
      "Using a pipeline without specifying a model name and revision in production is not recommended.\n"
     ]
    },
    {
     "data": {
      "text/plain": "[{'label': 'NEGATIVE', 'score': 0.9996434450149536},\n {'label': 'POSITIVE', 'score': 0.989424467086792},\n {'label': 'POSITIVE', 'score': 0.9993859529495239},\n {'label': 'NEGATIVE', 'score': 0.9835692048072815},\n {'label': 'POSITIVE', 'score': 0.9971075654029846},\n {'label': 'POSITIVE', 'score': 0.9996768236160278},\n {'label': 'NEGATIVE', 'score': 0.7675129771232605},\n {'label': 'POSITIVE', 'score': 0.9445950984954834},\n {'label': 'NEGATIVE', 'score': 0.9981271624565125},\n {'label': 'POSITIVE', 'score': 0.9478254914283752}]"
     },
     "execution_count": 5,
     "metadata": {},
     "output_type": "execute_result"
    }
   ],
   "source": [
    "# Predict sentiment of tweets\n",
    "predictions = pipe(twitter['tweet'].tolist())\n",
    "\n",
    "# Display the first 10 predictions\n",
    "predictions[:10]"
   ],
   "metadata": {
    "collapsed": false,
    "ExecuteTime": {
     "end_time": "2024-05-22T08:36:40.820526Z",
     "start_time": "2024-05-22T08:36:16.430017Z"
    }
   },
   "id": "8e7128efbaa28fa3",
   "execution_count": 5
  },
  {
   "cell_type": "markdown",
   "source": [
    "The pipeline returns a list of dictionaries, where each dictionary contains the predicted sentiment and the corresponding score. We will extract the predicted sentiment and add it to the `twitter` dataframe."
   ],
   "metadata": {
    "collapsed": false
   },
   "id": "a08664450364e9cc"
  },
  {
   "cell_type": "code",
   "outputs": [
    {
     "data": {
      "text/plain": "                                                 tweet sentiment   \n0    @JenniferHen ...alk or anything  hope you had ...  POSITIVE  \\\n1    Super hott outsidee! On my way to matamoros 2 ...  POSITIVE   \n2    Is updating twitter from her NEW computer  my ...  POSITIVE   \n3    hates that i have to work today! i want to be ...  NEGATIVE   \n4    @twinsquirrel  me too... nice to have coffee w...  POSITIVE   \n..                                                 ...       ...   \n995  It's #followfriday so I'm suggesting you follo...  POSITIVE   \n996                Jack daniels blew up in the cooler   NEGATIVE   \n997  Strawberry Mentos are the BEST!! thanks again ...  POSITIVE   \n998                    @shaylay11 awww thats soo saad   NEGATIVE   \n999                 @djackmanson We'll see about that   POSITIVE   \n\n    sentiment_pred  \n0         NEGATIVE  \n1         POSITIVE  \n2         POSITIVE  \n3         NEGATIVE  \n4         POSITIVE  \n..             ...  \n995       NEGATIVE  \n996       NEGATIVE  \n997       POSITIVE  \n998       NEGATIVE  \n999       POSITIVE  \n\n[1000 rows x 3 columns]",
      "text/html": "<div>\n<style scoped>\n    .dataframe tbody tr th:only-of-type {\n        vertical-align: middle;\n    }\n\n    .dataframe tbody tr th {\n        vertical-align: top;\n    }\n\n    .dataframe thead th {\n        text-align: right;\n    }\n</style>\n<table border=\"1\" class=\"dataframe\">\n  <thead>\n    <tr style=\"text-align: right;\">\n      <th></th>\n      <th>tweet</th>\n      <th>sentiment</th>\n      <th>sentiment_pred</th>\n    </tr>\n  </thead>\n  <tbody>\n    <tr>\n      <th>0</th>\n      <td>@JenniferHen ...alk or anything  hope you had ...</td>\n      <td>POSITIVE</td>\n      <td>NEGATIVE</td>\n    </tr>\n    <tr>\n      <th>1</th>\n      <td>Super hott outsidee! On my way to matamoros 2 ...</td>\n      <td>POSITIVE</td>\n      <td>POSITIVE</td>\n    </tr>\n    <tr>\n      <th>2</th>\n      <td>Is updating twitter from her NEW computer  my ...</td>\n      <td>POSITIVE</td>\n      <td>POSITIVE</td>\n    </tr>\n    <tr>\n      <th>3</th>\n      <td>hates that i have to work today! i want to be ...</td>\n      <td>NEGATIVE</td>\n      <td>NEGATIVE</td>\n    </tr>\n    <tr>\n      <th>4</th>\n      <td>@twinsquirrel  me too... nice to have coffee w...</td>\n      <td>POSITIVE</td>\n      <td>POSITIVE</td>\n    </tr>\n    <tr>\n      <th>...</th>\n      <td>...</td>\n      <td>...</td>\n      <td>...</td>\n    </tr>\n    <tr>\n      <th>995</th>\n      <td>It's #followfriday so I'm suggesting you follo...</td>\n      <td>POSITIVE</td>\n      <td>NEGATIVE</td>\n    </tr>\n    <tr>\n      <th>996</th>\n      <td>Jack daniels blew up in the cooler</td>\n      <td>NEGATIVE</td>\n      <td>NEGATIVE</td>\n    </tr>\n    <tr>\n      <th>997</th>\n      <td>Strawberry Mentos are the BEST!! thanks again ...</td>\n      <td>POSITIVE</td>\n      <td>POSITIVE</td>\n    </tr>\n    <tr>\n      <th>998</th>\n      <td>@shaylay11 awww thats soo saad</td>\n      <td>NEGATIVE</td>\n      <td>NEGATIVE</td>\n    </tr>\n    <tr>\n      <th>999</th>\n      <td>@djackmanson We'll see about that</td>\n      <td>POSITIVE</td>\n      <td>POSITIVE</td>\n    </tr>\n  </tbody>\n</table>\n<p>1000 rows × 3 columns</p>\n</div>"
     },
     "execution_count": 7,
     "metadata": {},
     "output_type": "execute_result"
    }
   ],
   "source": [
    "# Joining the predictions with the original data\n",
    "twitter['sentiment_pred'] = [x['label'] for x in predictions]\n",
    "twitter"
   ],
   "metadata": {
    "collapsed": false,
    "ExecuteTime": {
     "end_time": "2024-05-22T08:38:14.084586Z",
     "start_time": "2024-05-22T08:38:14.075154Z"
    }
   },
   "id": "be0b5f22576c5cd",
   "execution_count": 7
  },
  {
   "cell_type": "markdown",
   "source": [
    "We can see that the pipeline has predicted the sentiment of the tweets. We will now check the accuracy of the model by comparing the predicted sentiment with the actual sentiment."
   ],
   "metadata": {
    "collapsed": false
   },
   "id": "b927cd0321a68f92"
  },
  {
   "cell_type": "code",
   "outputs": [
    {
     "data": {
      "text/plain": "0.719"
     },
     "execution_count": 8,
     "metadata": {},
     "output_type": "execute_result"
    }
   ],
   "source": [
    "# Checking the accuracy of the model\n",
    "true_or_false = (twitter['sentiment'] == twitter['sentiment_pred'])\n",
    "accuracy = true_or_false.sum() / len(true_or_false)\n",
    "accuracy"
   ],
   "metadata": {
    "collapsed": false,
    "ExecuteTime": {
     "end_time": "2024-05-22T08:38:16.038535Z",
     "start_time": "2024-05-22T08:38:16.031302Z"
    }
   },
   "id": "558851256e2c57f7",
   "execution_count": 8
  },
  {
   "cell_type": "markdown",
   "source": [
    "## Text Generation"
   ],
   "metadata": {
    "collapsed": false
   },
   "id": "efc8d5804ede6511"
  },
  {
   "cell_type": "markdown",
   "source": [
    "We will now use the `transformers` text generation pipeline. We begin by loading the pipeline with the `gpt2` model. The pipeline will generate text based on a given prompt."
   ],
   "metadata": {
    "collapsed": false
   },
   "id": "dd5b4ccb4e39bc3f"
  },
  {
   "cell_type": "code",
   "outputs": [
    {
     "data": {
      "text/plain": "Downloading tokenizer_config.json:   0%|          | 0.00/26.0 [00:00<?, ?B/s]",
      "application/vnd.jupyter.widget-view+json": {
       "version_major": 2,
       "version_minor": 0,
       "model_id": "90b7c1e2bf5345caadc802a3a556ca45"
      }
     },
     "metadata": {},
     "output_type": "display_data"
    }
   ],
   "source": [
    "pipe = pipeline('text-generation', model='gpt2')"
   ],
   "metadata": {
    "collapsed": false,
    "ExecuteTime": {
     "end_time": "2024-05-22T08:52:29.785515Z",
     "start_time": "2024-05-22T08:52:25.472246Z"
    }
   },
   "id": "574afec0d0b34779",
   "execution_count": 9
  },
  {
   "cell_type": "markdown",
   "source": [
    "TASK: Please enter any prompt you like in the variable `prompt` below that you wish the model to continue generating text from. Feel free to play around with the `max_length` parameter to see how it affects the generated text."
   ],
   "metadata": {
    "collapsed": false
   },
   "id": "308056004c14c19f"
  },
  {
   "cell_type": "code",
   "outputs": [],
   "source": [
    "prompt = \"[PLEASE ENTER YOUR QUESTION HERE]\"\n",
    "\n",
    "# Generate text based on the prompt\n",
    "output = pipe(prompt, max_length=100)\n",
    "\n",
    "# Print the generated text\n",
    "output[0]['generated_text']"
   ],
   "metadata": {
    "collapsed": false
   },
   "id": "cc96eb23af195ac2",
   "execution_count": null
  },
  {
   "cell_type": "markdown",
   "source": [
    "TASK: Try replacing 'gpt2' above with 'gpt2-medium' or another text generation model on the [HF model hub](https://huggingface.co/models) to see how the generated text changes."
   ],
   "metadata": {
    "collapsed": false
   },
   "id": "81690eb2b6590715"
  }
 ],
 "metadata": {
  "kernelspec": {
   "display_name": "Python 3",
   "language": "python",
   "name": "python3"
  },
  "language_info": {
   "codemirror_mode": {
    "name": "ipython",
    "version": 2
   },
   "file_extension": ".py",
   "mimetype": "text/x-python",
   "name": "python",
   "nbconvert_exporter": "python",
   "pygments_lexer": "ipython2",
   "version": "2.7.6"
  }
 },
 "nbformat": 4,
 "nbformat_minor": 5
}
