{
 "cells": [
  {
   "cell_type": "markdown",
   "source": [
    "## Environment Setup\n",
    "**Make sure to set your runtime to use a GPU by going to `Runtime` -> `Change runtime type` -> `Hardware accelerator` -> `T4 GPU`**"
   ],
   "metadata": {
    "collapsed": false
   },
   "id": "7e75ca4df36940e4"
  },
  {
   "cell_type": "code",
   "execution_count": null,
   "id": "initial_id",
   "metadata": {
    "collapsed": true
   },
   "outputs": [],
   "source": [
    "import sys\n",
    "if 'google.colab' in sys.modules:  # If in Google Colab environment\n",
    "    # Mount google drive to enable access to data files\n",
    "    from google.colab import drive\n",
    "    drive.mount('/content/drive')\n",
    "    \n",
    "    # Installing requisite packages\n",
    "    !pip install transformers accelerate PyPDF2 &> /dev/null\n",
    "    \n",
    "    # Change working directory to health\n",
    "    %cd /content/drive/MyDrive/LLM4BeSci_GSERM2024/day_5"
   ]
  },
  {
   "cell_type": "code",
   "outputs": [],
   "source": [
    "import os\n",
    "import PyPDF2\n",
    "import pandas as pd\n",
    "from transformers import pipeline, AutoModelForCausalLM, AutoTokenizer\n",
    "import torch\n",
    "from tqdm.notebook import tqdm_notebook as tqdm"
   ],
   "metadata": {
    "collapsed": false
   },
   "id": "32d1a87f8f8f332b"
  },
  {
   "cell_type": "markdown",
   "source": [
    "## Load Data and Model"
   ],
   "metadata": {
    "collapsed": false
   },
   "id": "9a5bd305a250cc49"
  },
  {
   "cell_type": "code",
   "outputs": [],
   "source": [
    "# Load articles and convert to text\n",
    "articles = {}\n",
    "for article in os.listdir('articles'):\n",
    "    if article.endswith('.pdf'):\n",
    "        pdf_file = open(f'articles/{article}', 'rb')\n",
    "        pdf_reader = PyPDF2.PdfFileReader(pdf_file)\n",
    "        text = ''\n",
    "        for page in range(pdf_reader.numPages):\n",
    "            text += pdf_reader.getPage(page).extract_text()\n",
    "        articles[article] = text\n",
    "        \n",
    "# convert to dataframe using from_dict method\n",
    "articles = pd.DataFrame.from_dict(articles, orient='index', columns=['text'])\n",
    "articles"
   ],
   "metadata": {
    "collapsed": false
   },
   "id": "7a69377debe6975d"
  },
  {
   "cell_type": "code",
   "outputs": [],
   "source": [
    "torch.random.manual_seed(42) # For reproducibility\n",
    "\n",
    "# Load the model \n",
    "model = AutoModelForCausalLM.from_pretrained(\n",
    "    \"microsoft/Phi-3-mini-128k-instruct\",\n",
    "    device_map=\"cuda\", # Use GPU\n",
    "    torch_dtype=torch.float16, # Use half-precision\n",
    "    trust_remote_code=True, \n",
    "    attn_implementation='eager' # For faster inference on T4 GPUs\n",
    ")\n",
    "\n",
    "# Load the tokenizer\n",
    "tokenizer = AutoTokenizer.from_pretrained(\"microsoft/Phi-3-mini-128k-instruct\")"
   ],
   "metadata": {
    "collapsed": false
   },
   "id": "9cd46bddeb26563c"
  },
  {
   "cell_type": "code",
   "outputs": [],
   "source": [
    "pipe = pipeline(\n",
    "    \"text-generation\",\n",
    "    model=model,\n",
    "    tokenizer=tokenizer,\n",
    ")\n",
    "\n",
    "generation_args = {\n",
    "    \"max_new_tokens\": 10,  # Maximum number of tokens to generate\n",
    "    \"return_full_text\": False, # Return only the generated text\n",
    "    \"do_sample\": False # Use greedy decoding\n",
    "}"
   ],
   "metadata": {
    "collapsed": false
   },
   "id": "470ab4da8a3c25ba"
  },
  {
   "cell_type": "code",
   "outputs": [],
   "source": [
    "question = \"\"\n",
    "answers = []\n",
    "for text in tqdm(articles['text']): \n",
    "    # Define prompt with JSON format\n",
    "    prompt = [{\"role\": \"user\", \"content\": question + text}]\n",
    "    \n",
    "    # Generate response\n",
    "    answer = pipe(prompt, **generation_args)[0]['generated_text']\n",
    "\n",
    "articles['answer'] = answers\n",
    "articles"
   ],
   "metadata": {
    "collapsed": false
   },
   "id": "45196dd1a40b7e0d"
  }
 ],
 "metadata": {
  "kernelspec": {
   "display_name": "Python 3",
   "language": "python",
   "name": "python3"
  },
  "language_info": {
   "codemirror_mode": {
    "name": "ipython",
    "version": 2
   },
   "file_extension": ".py",
   "mimetype": "text/x-python",
   "name": "python",
   "nbconvert_exporter": "python",
   "pygments_lexer": "ipython2",
   "version": "2.7.6"
  }
 },
 "nbformat": 4,
 "nbformat_minor": 5
}
