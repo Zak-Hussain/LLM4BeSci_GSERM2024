{
 "cells": [
  {
   "cell_type": "markdown",
   "source": [
    "## Environment Setup"
   ],
   "metadata": {
    "collapsed": false
   },
   "id": "c770c2e65b6bf4a"
  },
  {
   "cell_type": "code",
   "execution_count": null,
   "id": "initial_id",
   "metadata": {
    "collapsed": true
   },
   "outputs": [],
   "source": [
    "import sys\n",
    "if 'google.colab' in sys.modules:  # If in Google Colab environment\n",
    "    # Mount google drive to enable access to data files\n",
    "    from google.colab import drive\n",
    "    drive.mount('/content/drive')\n",
    "    \n",
    "    # Installing requisite packages\n",
    "    !pip install sentence_transformers PyPDF2 &> /dev/null\n",
    "\n",
    "    # Mount google drive to enable access to data files\n",
    "    from google.colab import drive\n",
    "    drive.mount('/content/drive')\n",
    "\n",
    "    # Change working directory to health\n",
    "    %cd /content/drive/MyDrive/LLM4BeSci_GSERM2024/day_5"
   ]
  },
  {
   "cell_type": "code",
   "outputs": [],
   "source": [
    "import os\n",
    "import PyPDF2\n",
    "import pandas as pd\n",
    "from sentence_transformers import SentenceTransformer"
   ],
   "metadata": {
    "collapsed": false
   },
   "id": "4a09823ceb583e74"
  },
  {
   "cell_type": "code",
   "outputs": [],
   "source": [
    "# Load articles and convert to text\n",
    "texts = {}\n",
    "for article in os.listdir('articles'):\n",
    "    if article.endswith('.pdf'):\n",
    "        pdf_file = open(f'articles/{article}', 'rb')\n",
    "        pdf_reader = PyPDF2.PdfFileReader(pdf_file)\n",
    "        text = ''\n",
    "        for page in range(pdf_reader.numPages):\n",
    "            text += pdf_reader.getPage(page).extract_text()\n",
    "        texts[article] = text\n",
    "        \n",
    "# convert to dataframe using from_dict method\n",
    "text = pd.DataFrame.from_dict(texts, orient='index', columns=['text'])\n",
    "text"
   ],
   "metadata": {
    "collapsed": false
   },
   "id": "1985206431e1165a"
  },
  {
   "cell_type": "code",
   "outputs": [],
   "source": [
    "# Load pre-trained model\n",
    "model = SentenceTransformer('all-mpnet-base-v2')\n",
    "\n",
    "# Extract article features\n",
    "features = model.encode(text['text'])\n",
    "\n",
    "# Convert to dataframe\n",
    "features = pd.DataFrame(features, index=text.index)\n",
    "features"
   ],
   "metadata": {
    "collapsed": false
   },
   "id": "4a182a4dea43a9e4"
  },
  {
   "cell_type": "code",
   "outputs": [],
   "source": [
    "# Visualizing in 2D\n"
   ],
   "metadata": {
    "collapsed": false
   },
   "id": "bd9e1f09dcd38798"
  }
 ],
 "metadata": {
  "kernelspec": {
   "display_name": "Python 3",
   "language": "python",
   "name": "python3"
  },
  "language_info": {
   "codemirror_mode": {
    "name": "ipython",
    "version": 2
   },
   "file_extension": ".py",
   "mimetype": "text/x-python",
   "name": "python",
   "nbconvert_exporter": "python",
   "pygments_lexer": "ipython2",
   "version": "2.7.6"
  }
 },
 "nbformat": 4,
 "nbformat_minor": 5
}
