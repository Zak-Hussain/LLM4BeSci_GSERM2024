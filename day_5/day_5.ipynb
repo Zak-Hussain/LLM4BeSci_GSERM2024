{
  "cells": [
    {
      "cell_type": "markdown",
      "source": [
        "## Environment Setup\n",
        "**Make sure to set your runtime to use a GPU by going to `Runtime` -> `Change runtime type` -> `Hardware accelerator` -> `T4 GPU`**"
      ],
      "metadata": {
        "collapsed": false,
        "id": "7e75ca4df36940e4"
      },
      "id": "7e75ca4df36940e4"
    },
    {
      "cell_type": "code",
      "execution_count": 1,
      "id": "initial_id",
      "metadata": {
        "collapsed": true,
        "colab": {
          "base_uri": "https://localhost:8080/"
        },
        "id": "initial_id",
        "outputId": "9c8fe770-955b-4146-b256-4fe7be4e78c6"
      },
      "outputs": [
        {
          "output_type": "stream",
          "name": "stdout",
          "text": [
            "Drive already mounted at /content/drive; to attempt to forcibly remount, call drive.mount(\"/content/drive\", force_remount=True).\n",
            "/content/drive/MyDrive/LLM4BeSci_GSERM2024/day_5\n"
          ]
        }
      ],
      "source": [
        "import sys\n",
        "if 'google.colab' in sys.modules:  # If in Google Colab environment\n",
        "    # Mount google drive to enable access to data files\n",
        "    from google.colab import drive\n",
        "    drive.mount('/content/drive')\n",
        "\n",
        "    # Installing requisite packages\n",
        "    !pip install transformers accelerate pymupdf &> /dev/null\n",
        "\n",
        "    # Change working directory to health\n",
        "    %cd /content/drive/MyDrive/LLM4BeSci_GSERM2024/day_5"
      ]
    },
    {
      "cell_type": "code",
      "outputs": [],
      "source": [
        "import fitz\n",
        "from transformers import pipeline, AutoModelForCausalLM, AutoTokenizer\n",
        "import torch"
      ],
      "metadata": {
        "ExecuteTime": {
          "end_time": "2024-06-01T13:28:17.997821Z",
          "start_time": "2024-06-01T13:28:15.772813Z"
        },
        "id": "32d1a87f8f8f332b"
      },
      "id": "32d1a87f8f8f332b",
      "execution_count": 2
    },
    {
      "cell_type": "markdown",
      "source": [
        "## Load Data and Model"
      ],
      "metadata": {
        "collapsed": false,
        "id": "9a5bd305a250cc49"
      },
      "id": "9a5bd305a250cc49"
    },
    {
      "cell_type": "code",
      "outputs": [
        {
          "output_type": "execute_result",
          "data": {
            "text/plain": [
              "'Against Justaism: A call for more measured\\ndiscussions on LLM cognition\\nZak Hussain1,2*, Rui Mata1 and Dirk U. Wulff2,1\\n1*University of Basel.\\n2Max Planck Institute for Human Development.\\n*Corresponding author(s). E-mail(s): z.hussain@unibas.ch;\\nContributing authors: rui.mata@unibas.ch; wulff@mpib-berlin.mpg.de;\\nAbstract\\nAre large language models (LLMs) ”just next-token predictors” devoid of cogni-\\ntive capacities such as ”thought” or ”understanding”? We argue from a cognitive\\nscience perspective that it is far from self-evident that such perspectives hold\\ndespite their prominence in current discussions surrounding LLMs. We make our\\ncase by critically evaluating different flavors of Justaic reasoning and end with a\\ncall for more measured discussions on LLM cognition.\\nKeywords: large language models, cognition\\nOver 70 years ago, Turing (1950) posed a question that has captivated computer sci-\\nentists, cognitive scientists, and philosophers alike: ”Can machines think?”. With the\\nrecent p'"
            ],
            "application/vnd.google.colaboratory.intrinsic+json": {
              "type": "string"
            }
          },
          "metadata": {},
          "execution_count": 3
        }
      ],
      "source": [
        "# Extract text from PDF\n",
        "pdf = fitz.open('Against_Justaism.pdf')\n",
        "text = \"\"\n",
        "for page in pdf[:4]:\n",
        "    text += page.get_text()\n",
        "\n",
        "text[:1000]  # Display the first 500 characters to verify content extraction"
      ],
      "metadata": {
        "ExecuteTime": {
          "end_time": "2024-06-01T13:30:52.451408Z",
          "start_time": "2024-06-01T13:30:52.346200Z"
        },
        "colab": {
          "base_uri": "https://localhost:8080/",
          "height": 143
        },
        "id": "60a303a9d552a2bc",
        "outputId": "da705572-5af3-4cca-8e9f-69dc6c723c76"
      },
      "id": "60a303a9d552a2bc",
      "execution_count": 3
    },
    {
      "cell_type": "code",
      "outputs": [
        {
          "output_type": "stream",
          "name": "stderr",
          "text": [
            "/usr/local/lib/python3.10/dist-packages/huggingface_hub/utils/_token.py:89: UserWarning: \n",
            "The secret `HF_TOKEN` does not exist in your Colab secrets.\n",
            "To authenticate with the Hugging Face Hub, create a token in your settings tab (https://huggingface.co/settings/tokens), set it as secret in your Google Colab and restart your session.\n",
            "You will be able to reuse this secret in all of your notebooks.\n",
            "Please note that authentication is recommended but still optional to access public models or datasets.\n",
            "  warnings.warn(\n",
            "WARNING:transformers_modules.microsoft.Phi-3-mini-128k-instruct.5be6479b4bc06a081e8f4c6ece294241ccd32dec.modeling_phi3:`flash-attention` package not found, consider installing for better performance: No module named 'flash_attn'.\n",
            "WARNING:transformers_modules.microsoft.Phi-3-mini-128k-instruct.5be6479b4bc06a081e8f4c6ece294241ccd32dec.modeling_phi3:Current `flash-attenton` does not support `window_size`. Either upgrade or use `attn_implementation='eager'`.\n"
          ]
        },
        {
          "output_type": "display_data",
          "data": {
            "text/plain": [
              "Loading checkpoint shards:   0%|          | 0/2 [00:00<?, ?it/s]"
            ],
            "application/vnd.jupyter.widget-view+json": {
              "version_major": 2,
              "version_minor": 0,
              "model_id": "a76b93664eaf4f14b76ce4bb579d8915"
            }
          },
          "metadata": {}
        },
        {
          "output_type": "stream",
          "name": "stderr",
          "text": [
            "Special tokens have been added in the vocabulary, make sure the associated word embeddings are fine-tuned or trained.\n"
          ]
        }
      ],
      "source": [
        "torch.random.manual_seed(42) # For reproducibility\n",
        "\n",
        "# Load the model\n",
        "model = AutoModelForCausalLM.from_pretrained(\n",
        "    \"microsoft/Phi-3-mini-128k-instruct\",\n",
        "    device_map=\"cuda\", # Use GPU\n",
        "    torch_dtype=torch.float16, # Use half-precision\n",
        "    trust_remote_code=True,\n",
        "    attn_implementation='eager' # For faster inference on T4 GPUs\n",
        ")\n",
        "\n",
        "# Load the tokenizer\n",
        "tokenizer = AutoTokenizer.from_pretrained(\"microsoft/Phi-3-mini-128k-instruct\")"
      ],
      "metadata": {
        "colab": {
          "base_uri": "https://localhost:8080/",
          "height": 230,
          "referenced_widgets": [
            "a76b93664eaf4f14b76ce4bb579d8915",
            "34e542660d2a406c9c928b96c585ab28",
            "4116c5a9366347118547db93f662b637",
            "d0d2b50a3c894bd69010293c3eca0dd6",
            "bd78babe153f4f658673359ec63a8ca2",
            "f4334e815319414b9d4c5be88a3cea90",
            "6d33490fbae34424bf3ea46a8d59dfa9",
            "f5c20ff0396c4e75bfddc1f1ca9ee38b",
            "ef0d7626b18344c383b1b576a57866eb",
            "793a38f2ab4345c9a883db5158d450b6",
            "c96718b1b1554bfe99e7c3e7cf4670a4"
          ]
        },
        "id": "9cd46bddeb26563c",
        "outputId": "adb4c1fa-14a4-4d10-8980-a76d84d6b1e0"
      },
      "id": "9cd46bddeb26563c",
      "execution_count": 4
    },
    {
      "cell_type": "code",
      "outputs": [],
      "source": [
        "pipe = pipeline(\n",
        "    \"text-generation\",\n",
        "    model=model,\n",
        "    tokenizer=tokenizer,\n",
        ")\n",
        "\n",
        "generation_args = {\n",
        "    \"max_new_tokens\": 300,  # Maximum number of tokens to generate\n",
        "    \"return_full_text\": False, # Return only the generated text\n",
        "    \"do_sample\": False # Use greedy decoding\n",
        "}"
      ],
      "metadata": {
        "id": "470ab4da8a3c25ba"
      },
      "id": "470ab4da8a3c25ba",
      "execution_count": 11
    },
    {
      "cell_type": "code",
      "outputs": [
        {
          "output_type": "stream",
          "name": "stdout",
          "text": [
            " The title of the paper is \"Against Justaism: A call for more measured discussions on LLM cognition\".\n"
          ]
        }
      ],
      "source": [
        "def query_paper(query):\n",
        "    prompt = [\n",
        "        {\"role\": \"assistant\", \"content\": \"What do you want to know about the paper?:\\n-------------------\\n\" + text},\n",
        "        {\"role\": \"user\", \"content\": query}\n",
        "        ]\n",
        "    output = pipe(prompt, **generation_args)\n",
        "    return output[0]['generated_text']\n",
        "\n",
        "print(query_paper(\"What is the title of the paper?\"))"
      ],
      "metadata": {
        "colab": {
          "base_uri": "https://localhost:8080/"
        },
        "id": "25d93546685bc2e8",
        "outputId": "0eb31623-cb5d-40d4-fe20-3b8377cd9a02"
      },
      "id": "25d93546685bc2e8",
      "execution_count": 12
    },
    {
      "cell_type": "code",
      "outputs": [
        {
          "output_type": "stream",
          "name": "stdout",
          "text": [
            " Against Justaism: A call for more measured discussions on LLM cognition\n",
            "Zak Hussain1,2*, Rui Mata1 and Dirk U. Wulff2,1\n",
            "1*University of Basel.\n",
            "2Max Planck Institute for Human Development.\n",
            "*Corresponding author(s). E-mail(s): z.hussain@unibas.ch;\n",
            "Contributing authors: rui.mata@unibas.ch; wulff@mpib-berlin.mpg.de;\n",
            "Abstract\n",
            "Are large language models (LLMs) ”just next-token predictors” devoid of cogni-\n",
            "tive capacities such as ”thought” or ”understanding”? We argue from a cognitive\n",
            "science perspective that it is far from self-evident that such perspectives hold\n",
            "despite their prominence in current discussions surrounding LLMs. We make our\n",
            "case by critically evaluating different flavors of Justaic reasoning and end with a\n",
            "call for more measured discussions on LLM cognition.\n",
            "Keywords: large language models, cognition\n"
          ]
        }
      ],
      "source": [
        "print(query_paper(\"Return the full abstract from the paper\"))"
      ],
      "metadata": {
        "colab": {
          "base_uri": "https://localhost:8080/"
        },
        "id": "dc331c0f510d6801",
        "outputId": "1d7f37ca-e4fb-4394-f3d9-857d685d0eb7"
      },
      "id": "dc331c0f510d6801",
      "execution_count": 13
    },
    {
      "cell_type": "code",
      "outputs": [
        {
          "output_type": "stream",
          "name": "stdout",
          "text": [
            " The paper critiques two flavors of Justaic reasoning in the context of large language models (LLMs) and cognition. The first, anti-simple-objectives Justaism, argues that LLMs, being merely next-token predictors, lack cognitive capacities. The authors counter this by suggesting that simple objectives could still lead to cognition, using humans as an analogy. The second, anti-anthropomorphic Justaism, posits that attributing cognition to machines is a category error. The authors argue against this restrictive view, advocating for conceptual generalization and a more nuanced discussion on extending cognitive capacities to AI systems. The paper also addresses other criticisms of LLM cognition, such as the distinction between semantics and syntax, and the importance of real-world grounding.\n"
          ]
        }
      ],
      "source": [
        "print(query_paper(\"Summarise the paper\"))"
      ],
      "metadata": {
        "colab": {
          "base_uri": "https://localhost:8080/"
        },
        "id": "d049b257385e00e4",
        "outputId": "e165e0ec-bb97-4bba-c841-c9ad54daf6f3"
      },
      "id": "d049b257385e00e4",
      "execution_count": 14
    }
  ],
  "metadata": {
    "kernelspec": {
      "display_name": "Python 3",
      "name": "python3"
    },
    "language_info": {
      "codemirror_mode": {
        "name": "ipython",
        "version": 2
      },
      "file_extension": ".py",
      "mimetype": "text/x-python",
      "name": "python",
      "nbconvert_exporter": "python",
      "pygments_lexer": "ipython2",
      "version": "2.7.6"
    },
    "colab": {
      "provenance": [],
      "gpuType": "T4"
    },
    "accelerator": "GPU",
    "widgets": {
      "application/vnd.jupyter.widget-state+json": {
        "a76b93664eaf4f14b76ce4bb579d8915": {
          "model_module": "@jupyter-widgets/controls",
          "model_name": "HBoxModel",
          "model_module_version": "1.5.0",
          "state": {
            "_dom_classes": [],
            "_model_module": "@jupyter-widgets/controls",
            "_model_module_version": "1.5.0",
            "_model_name": "HBoxModel",
            "_view_count": null,
            "_view_module": "@jupyter-widgets/controls",
            "_view_module_version": "1.5.0",
            "_view_name": "HBoxView",
            "box_style": "",
            "children": [
              "IPY_MODEL_34e542660d2a406c9c928b96c585ab28",
              "IPY_MODEL_4116c5a9366347118547db93f662b637",
              "IPY_MODEL_d0d2b50a3c894bd69010293c3eca0dd6"
            ],
            "layout": "IPY_MODEL_bd78babe153f4f658673359ec63a8ca2"
          }
        },
        "34e542660d2a406c9c928b96c585ab28": {
          "model_module": "@jupyter-widgets/controls",
          "model_name": "HTMLModel",
          "model_module_version": "1.5.0",
          "state": {
            "_dom_classes": [],
            "_model_module": "@jupyter-widgets/controls",
            "_model_module_version": "1.5.0",
            "_model_name": "HTMLModel",
            "_view_count": null,
            "_view_module": "@jupyter-widgets/controls",
            "_view_module_version": "1.5.0",
            "_view_name": "HTMLView",
            "description": "",
            "description_tooltip": null,
            "layout": "IPY_MODEL_f4334e815319414b9d4c5be88a3cea90",
            "placeholder": "​",
            "style": "IPY_MODEL_6d33490fbae34424bf3ea46a8d59dfa9",
            "value": "Loading checkpoint shards: 100%"
          }
        },
        "4116c5a9366347118547db93f662b637": {
          "model_module": "@jupyter-widgets/controls",
          "model_name": "FloatProgressModel",
          "model_module_version": "1.5.0",
          "state": {
            "_dom_classes": [],
            "_model_module": "@jupyter-widgets/controls",
            "_model_module_version": "1.5.0",
            "_model_name": "FloatProgressModel",
            "_view_count": null,
            "_view_module": "@jupyter-widgets/controls",
            "_view_module_version": "1.5.0",
            "_view_name": "ProgressView",
            "bar_style": "success",
            "description": "",
            "description_tooltip": null,
            "layout": "IPY_MODEL_f5c20ff0396c4e75bfddc1f1ca9ee38b",
            "max": 2,
            "min": 0,
            "orientation": "horizontal",
            "style": "IPY_MODEL_ef0d7626b18344c383b1b576a57866eb",
            "value": 2
          }
        },
        "d0d2b50a3c894bd69010293c3eca0dd6": {
          "model_module": "@jupyter-widgets/controls",
          "model_name": "HTMLModel",
          "model_module_version": "1.5.0",
          "state": {
            "_dom_classes": [],
            "_model_module": "@jupyter-widgets/controls",
            "_model_module_version": "1.5.0",
            "_model_name": "HTMLModel",
            "_view_count": null,
            "_view_module": "@jupyter-widgets/controls",
            "_view_module_version": "1.5.0",
            "_view_name": "HTMLView",
            "description": "",
            "description_tooltip": null,
            "layout": "IPY_MODEL_793a38f2ab4345c9a883db5158d450b6",
            "placeholder": "​",
            "style": "IPY_MODEL_c96718b1b1554bfe99e7c3e7cf4670a4",
            "value": " 2/2 [00:36&lt;00:00, 17.08s/it]"
          }
        },
        "bd78babe153f4f658673359ec63a8ca2": {
          "model_module": "@jupyter-widgets/base",
          "model_name": "LayoutModel",
          "model_module_version": "1.2.0",
          "state": {
            "_model_module": "@jupyter-widgets/base",
            "_model_module_version": "1.2.0",
            "_model_name": "LayoutModel",
            "_view_count": null,
            "_view_module": "@jupyter-widgets/base",
            "_view_module_version": "1.2.0",
            "_view_name": "LayoutView",
            "align_content": null,
            "align_items": null,
            "align_self": null,
            "border": null,
            "bottom": null,
            "display": null,
            "flex": null,
            "flex_flow": null,
            "grid_area": null,
            "grid_auto_columns": null,
            "grid_auto_flow": null,
            "grid_auto_rows": null,
            "grid_column": null,
            "grid_gap": null,
            "grid_row": null,
            "grid_template_areas": null,
            "grid_template_columns": null,
            "grid_template_rows": null,
            "height": null,
            "justify_content": null,
            "justify_items": null,
            "left": null,
            "margin": null,
            "max_height": null,
            "max_width": null,
            "min_height": null,
            "min_width": null,
            "object_fit": null,
            "object_position": null,
            "order": null,
            "overflow": null,
            "overflow_x": null,
            "overflow_y": null,
            "padding": null,
            "right": null,
            "top": null,
            "visibility": null,
            "width": null
          }
        },
        "f4334e815319414b9d4c5be88a3cea90": {
          "model_module": "@jupyter-widgets/base",
          "model_name": "LayoutModel",
          "model_module_version": "1.2.0",
          "state": {
            "_model_module": "@jupyter-widgets/base",
            "_model_module_version": "1.2.0",
            "_model_name": "LayoutModel",
            "_view_count": null,
            "_view_module": "@jupyter-widgets/base",
            "_view_module_version": "1.2.0",
            "_view_name": "LayoutView",
            "align_content": null,
            "align_items": null,
            "align_self": null,
            "border": null,
            "bottom": null,
            "display": null,
            "flex": null,
            "flex_flow": null,
            "grid_area": null,
            "grid_auto_columns": null,
            "grid_auto_flow": null,
            "grid_auto_rows": null,
            "grid_column": null,
            "grid_gap": null,
            "grid_row": null,
            "grid_template_areas": null,
            "grid_template_columns": null,
            "grid_template_rows": null,
            "height": null,
            "justify_content": null,
            "justify_items": null,
            "left": null,
            "margin": null,
            "max_height": null,
            "max_width": null,
            "min_height": null,
            "min_width": null,
            "object_fit": null,
            "object_position": null,
            "order": null,
            "overflow": null,
            "overflow_x": null,
            "overflow_y": null,
            "padding": null,
            "right": null,
            "top": null,
            "visibility": null,
            "width": null
          }
        },
        "6d33490fbae34424bf3ea46a8d59dfa9": {
          "model_module": "@jupyter-widgets/controls",
          "model_name": "DescriptionStyleModel",
          "model_module_version": "1.5.0",
          "state": {
            "_model_module": "@jupyter-widgets/controls",
            "_model_module_version": "1.5.0",
            "_model_name": "DescriptionStyleModel",
            "_view_count": null,
            "_view_module": "@jupyter-widgets/base",
            "_view_module_version": "1.2.0",
            "_view_name": "StyleView",
            "description_width": ""
          }
        },
        "f5c20ff0396c4e75bfddc1f1ca9ee38b": {
          "model_module": "@jupyter-widgets/base",
          "model_name": "LayoutModel",
          "model_module_version": "1.2.0",
          "state": {
            "_model_module": "@jupyter-widgets/base",
            "_model_module_version": "1.2.0",
            "_model_name": "LayoutModel",
            "_view_count": null,
            "_view_module": "@jupyter-widgets/base",
            "_view_module_version": "1.2.0",
            "_view_name": "LayoutView",
            "align_content": null,
            "align_items": null,
            "align_self": null,
            "border": null,
            "bottom": null,
            "display": null,
            "flex": null,
            "flex_flow": null,
            "grid_area": null,
            "grid_auto_columns": null,
            "grid_auto_flow": null,
            "grid_auto_rows": null,
            "grid_column": null,
            "grid_gap": null,
            "grid_row": null,
            "grid_template_areas": null,
            "grid_template_columns": null,
            "grid_template_rows": null,
            "height": null,
            "justify_content": null,
            "justify_items": null,
            "left": null,
            "margin": null,
            "max_height": null,
            "max_width": null,
            "min_height": null,
            "min_width": null,
            "object_fit": null,
            "object_position": null,
            "order": null,
            "overflow": null,
            "overflow_x": null,
            "overflow_y": null,
            "padding": null,
            "right": null,
            "top": null,
            "visibility": null,
            "width": null
          }
        },
        "ef0d7626b18344c383b1b576a57866eb": {
          "model_module": "@jupyter-widgets/controls",
          "model_name": "ProgressStyleModel",
          "model_module_version": "1.5.0",
          "state": {
            "_model_module": "@jupyter-widgets/controls",
            "_model_module_version": "1.5.0",
            "_model_name": "ProgressStyleModel",
            "_view_count": null,
            "_view_module": "@jupyter-widgets/base",
            "_view_module_version": "1.2.0",
            "_view_name": "StyleView",
            "bar_color": null,
            "description_width": ""
          }
        },
        "793a38f2ab4345c9a883db5158d450b6": {
          "model_module": "@jupyter-widgets/base",
          "model_name": "LayoutModel",
          "model_module_version": "1.2.0",
          "state": {
            "_model_module": "@jupyter-widgets/base",
            "_model_module_version": "1.2.0",
            "_model_name": "LayoutModel",
            "_view_count": null,
            "_view_module": "@jupyter-widgets/base",
            "_view_module_version": "1.2.0",
            "_view_name": "LayoutView",
            "align_content": null,
            "align_items": null,
            "align_self": null,
            "border": null,
            "bottom": null,
            "display": null,
            "flex": null,
            "flex_flow": null,
            "grid_area": null,
            "grid_auto_columns": null,
            "grid_auto_flow": null,
            "grid_auto_rows": null,
            "grid_column": null,
            "grid_gap": null,
            "grid_row": null,
            "grid_template_areas": null,
            "grid_template_columns": null,
            "grid_template_rows": null,
            "height": null,
            "justify_content": null,
            "justify_items": null,
            "left": null,
            "margin": null,
            "max_height": null,
            "max_width": null,
            "min_height": null,
            "min_width": null,
            "object_fit": null,
            "object_position": null,
            "order": null,
            "overflow": null,
            "overflow_x": null,
            "overflow_y": null,
            "padding": null,
            "right": null,
            "top": null,
            "visibility": null,
            "width": null
          }
        },
        "c96718b1b1554bfe99e7c3e7cf4670a4": {
          "model_module": "@jupyter-widgets/controls",
          "model_name": "DescriptionStyleModel",
          "model_module_version": "1.5.0",
          "state": {
            "_model_module": "@jupyter-widgets/controls",
            "_model_module_version": "1.5.0",
            "_model_name": "DescriptionStyleModel",
            "_view_count": null,
            "_view_module": "@jupyter-widgets/base",
            "_view_module_version": "1.2.0",
            "_view_name": "StyleView",
            "description_width": ""
          }
        }
      }
    }
  },
  "nbformat": 4,
  "nbformat_minor": 5
}