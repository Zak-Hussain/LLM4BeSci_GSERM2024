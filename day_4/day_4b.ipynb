{
 "cells": [
  {
   "cell_type": "markdown",
   "source": [
    "1. temperature=1, generate 100 1-7 responses to the question, compare histograms, do correlation (scatter plot)\n",
    "2. write code so they can easily generate a prompt that has the demographic information (compare accuracy with 1 using correlation, scatter plot)"
   ],
   "metadata": {
    "collapsed": false
   },
   "id": "b6b19d3fb8324875"
  },
  {
   "cell_type": "code",
   "execution_count": null,
   "id": "initial_id",
   "metadata": {
    "collapsed": true
   },
   "outputs": [],
   "source": []
  }
 ],
 "metadata": {
  "kernelspec": {
   "display_name": "Python 3",
   "language": "python",
   "name": "python3"
  },
  "language_info": {
   "codemirror_mode": {
    "name": "ipython",
    "version": 2
   },
   "file_extension": ".py",
   "mimetype": "text/x-python",
   "name": "python",
   "nbconvert_exporter": "python",
   "pygments_lexer": "ipython2",
   "version": "2.7.6"
  }
 },
 "nbformat": 4,
 "nbformat_minor": 5
}
