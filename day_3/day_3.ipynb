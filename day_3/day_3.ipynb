{
 "cells": [
  {
   "cell_type": "markdown",
   "source": [
    "## Using Notebook Environments \n",
    "1. To run a cell, press `shift + enter`. The notebook will execute the code in the cell and move to the next cell. If the cell contains a markdown cell (text only), it will render the markdown and move to the next cell.\n",
    "2. Since cells can be executed in any order and variables can be over-written, you may at some point feel that you have lost track of the state of your notebook. If this is the case, you can always restart the kernel by clicking Runtime in the menu bar (if you're using Colab) and selecting `Restart runtime`. This will clear all variables and outputs.\n",
    "3. The final variable in a cell will be printed on the screen. If you want to print multiple variables, use the `print()` function as usual.\n",
    "\n",
    "Notebook environments support code cells and markdown cells. For the purposes of this workshop, markdown cells are used to provide high-level explanations of the code. More specific details are provided in the code cells themselves in the form of comments (lines beginning with `#`)"
   ],
   "metadata": {
    "collapsed": false
   },
   "id": "9ec1c13dcc2423d2"
  },
  {
   "cell_type": "markdown",
   "source": [
    "## Environment Setup"
   ],
   "metadata": {
    "collapsed": false
   },
   "id": "e2d0673bbb432e4f"
  },
  {
   "cell_type": "code",
   "execution_count": null,
   "id": "initial_id",
   "metadata": {
    "collapsed": true
   },
   "outputs": [],
   "source": [
    "import sys\n",
    "if 'google.colab' in sys.modules:  # If in Google Colab environment\n",
    "    # Installing requisite packages\n",
    "    !pip install transformers sentence-transformers accelerate\n",
    "\n",
    "    # Mount google drive to enable access to data files\n",
    "    from google.colab import drive\n",
    "    drive.mount('/content/drive')\n",
    "\n",
    "    # Change working directory to health\n",
    "    %cd /content/drive/MyDrive/LLM4SocBeSci/day_3"
   ]
  },
  {
   "cell_type": "code",
   "outputs": [],
   "source": [
    "import pandas as pd\n",
    "from transformers import pipeline, AutoModelForCausalLM, AutoTokenizer\n",
    "import torch\n",
    "from sentence_transformers import SentenceTransformer\n",
    "from sklearn.linear_model import RidgeClassifierCV\n",
    "import seaborn as sns\n",
    "from tqdm.notebook import tqdm_notebook as tqdm"
   ],
   "metadata": {
    "collapsed": false,
    "ExecuteTime": {
     "end_time": "2024-05-25T17:47:29.912527Z",
     "start_time": "2024-05-25T17:47:29.907903Z"
    }
   },
   "id": "5ee02d097856ee15",
   "execution_count": 36
  },
  {
   "cell_type": "code",
   "outputs": [
    {
     "data": {
      "text/plain": "                                                title                source   \n0    California slashes water use for upstate farmers             USA TODAY  \\\n1   Twitter slapped its first 'manipulated media' ...      Business Insider   \n2   OPINION: There's a sobering truth to Trump's r...       CNN - Editorial   \n3   Supreme Court Justice Ruth Bader Ginsburg hosp...             USA TODAY   \n4   Noncompliance Kneecaps New Zealand's Gun Contr...                Reason   \n..                                                ...                   ...   \n95  GOP 2016 hopefuls take aim at Hillary, each ot...        CNN (Web News)   \n96  Feds reportedly eye interview with Clinton, re...       Fox Online News   \n97     Taliban Terrorists Have No Place at Camp David  Guest Writer - Right   \n98  Scorecard For A Departing President: Assessing...       NPR Online News   \n99  EXCLUSIVE: Obama Rarely Prosecuted Criminals W...      The Daily Caller   \n\n   bias_text  \n0     center  \n1     center  \n2       left  \n3     center  \n4      right  \n..       ...  \n95      left  \n96     right  \n97     right  \n98    center  \n99     right  \n\n[100 rows x 3 columns]",
      "text/html": "<div>\n<style scoped>\n    .dataframe tbody tr th:only-of-type {\n        vertical-align: middle;\n    }\n\n    .dataframe tbody tr th {\n        vertical-align: top;\n    }\n\n    .dataframe thead th {\n        text-align: right;\n    }\n</style>\n<table border=\"1\" class=\"dataframe\">\n  <thead>\n    <tr style=\"text-align: right;\">\n      <th></th>\n      <th>title</th>\n      <th>source</th>\n      <th>bias_text</th>\n    </tr>\n  </thead>\n  <tbody>\n    <tr>\n      <th>0</th>\n      <td>California slashes water use for upstate farmers</td>\n      <td>USA TODAY</td>\n      <td>center</td>\n    </tr>\n    <tr>\n      <th>1</th>\n      <td>Twitter slapped its first 'manipulated media' ...</td>\n      <td>Business Insider</td>\n      <td>center</td>\n    </tr>\n    <tr>\n      <th>2</th>\n      <td>OPINION: There's a sobering truth to Trump's r...</td>\n      <td>CNN - Editorial</td>\n      <td>left</td>\n    </tr>\n    <tr>\n      <th>3</th>\n      <td>Supreme Court Justice Ruth Bader Ginsburg hosp...</td>\n      <td>USA TODAY</td>\n      <td>center</td>\n    </tr>\n    <tr>\n      <th>4</th>\n      <td>Noncompliance Kneecaps New Zealand's Gun Contr...</td>\n      <td>Reason</td>\n      <td>right</td>\n    </tr>\n    <tr>\n      <th>...</th>\n      <td>...</td>\n      <td>...</td>\n      <td>...</td>\n    </tr>\n    <tr>\n      <th>95</th>\n      <td>GOP 2016 hopefuls take aim at Hillary, each ot...</td>\n      <td>CNN (Web News)</td>\n      <td>left</td>\n    </tr>\n    <tr>\n      <th>96</th>\n      <td>Feds reportedly eye interview with Clinton, re...</td>\n      <td>Fox Online News</td>\n      <td>right</td>\n    </tr>\n    <tr>\n      <th>97</th>\n      <td>Taliban Terrorists Have No Place at Camp David</td>\n      <td>Guest Writer - Right</td>\n      <td>right</td>\n    </tr>\n    <tr>\n      <th>98</th>\n      <td>Scorecard For A Departing President: Assessing...</td>\n      <td>NPR Online News</td>\n      <td>center</td>\n    </tr>\n    <tr>\n      <th>99</th>\n      <td>EXCLUSIVE: Obama Rarely Prosecuted Criminals W...</td>\n      <td>The Daily Caller</td>\n      <td>right</td>\n    </tr>\n  </tbody>\n</table>\n<p>100 rows × 3 columns</p>\n</div>"
     },
     "execution_count": 34,
     "metadata": {},
     "output_type": "execute_result"
    }
   ],
   "source": [
    "media_bias_test = pd.read_csv('media_bias_test.csv')\n",
    "media_bias_test "
   ],
   "metadata": {
    "collapsed": false,
    "ExecuteTime": {
     "end_time": "2024-05-25T17:47:24.435223Z",
     "start_time": "2024-05-25T17:47:24.414600Z"
    }
   },
   "id": "619109c58f993657",
   "execution_count": 34
  },
  {
   "cell_type": "markdown",
   "source": [
    "## Zero-shot Classification "
   ],
   "metadata": {
    "collapsed": false
   },
   "id": "68cf85b8c6a929a6"
  },
  {
   "cell_type": "code",
   "outputs": [
    {
     "data": {
      "text/plain": "  0%|          | 0/100 [00:00<?, ?it/s]",
      "application/vnd.jupyter.widget-view+json": {
       "version_major": 2,
       "version_minor": 0,
       "model_id": "3d71fbd3b6644458829b20feeff8afb6"
      }
     },
     "metadata": {},
     "output_type": "display_data"
    },
    {
     "name": "stderr",
     "output_type": "stream",
     "text": [
      "/Users/zhussain/opt/anaconda3/envs/LLM4BeSci/lib/python3.8/site-packages/transformers/generation/utils.py:1219: UserWarning: You have modified the pretrained model configuration to control generation. This is a deprecated strategy to control generation and will be removed soon, in a future version. Please use a generation configuration file (see https://huggingface.co/docs/transformers/main_classes/text_generation)\n",
      "  warnings.warn(\n",
      "Setting `pad_token_id` to `eos_token_id`:50256 for open-end generation.\n"
     ]
    },
    {
     "data": {
      "text/plain": "(\"\\n\\ncalifornia's water use is down by more\", 'nan')"
     },
     "execution_count": 44,
     "metadata": {},
     "output_type": "execute_result"
    }
   ],
   "source": [
    "torch.random.manual_seed(42)\n",
    "\n",
    "model = AutoModelForCausalLM.from_pretrained(\n",
    "    \"microsoft/Phi-3-mini-128k-instruct\", \n",
    "    device_map=\"cuda\", \n",
    "    torch_dtype=\"auto\", \n",
    "    trust_remote_code=True, \n",
    ")\n",
    "\n",
    "tokenizer = AutoTokenizer.from_pretrained(\"microsoft/Phi-3-mini-128k-instruct\")\n",
    "\n",
    "pipe = pipeline(\n",
    "    \"text-generation\",\n",
    "    model=model,\n",
    "    tokenizer=tokenizer,\n",
    ")\n",
    "\n",
    "generation_args = {\n",
    "    \"max_new_tokens\": 10,\n",
    "    \"return_full_text\": False,\n",
    "    \"temperature\": 0.0,\n",
    "    \"do_sample\": False,\n",
    "}\n",
    "\n",
    "for headline in tqdm(media_bias_test['title']):\n",
    "    message = {\"role\": \"user\", \"content\": \"Is this headline from a lef-wing or right-wing source? Answer with 'left' or 'right' only:\\n\" + headline}\n",
    "    output = pipe(message, **generation_args)[0]['generated_text'].lower()\n",
    "    if 'left' in output:\n",
    "        label = 'left'\n",
    "    elif 'right' in output:\n",
    "        label = 'right'\n",
    "    else:\n",
    "       label =  'nan'\n",
    "    break\n",
    "\n",
    "output, label"
   ],
   "metadata": {
    "collapsed": false,
    "ExecuteTime": {
     "end_time": "2024-05-25T17:50:41.557933Z",
     "start_time": "2024-05-25T17:50:38.355868Z"
    }
   },
   "id": "4349bc4e35dd9dfa",
   "execution_count": 44
  },
  {
   "cell_type": "markdown",
   "source": [
    "## Few-shot Classification"
   ],
   "metadata": {
    "collapsed": false
   },
   "id": "e93072806dcb0229"
  },
  {
   "cell_type": "code",
   "outputs": [],
   "source": [
    "n_shots = 10\n",
    "few_shot_prompt = ((media_bias_test['headline'] + ': ' + media_bias_test['label']).iloc[:n_shots]).tolist().join('\\n')\n",
    "few_shot_prompt = \"Based on the following headlines and labels: \" + \"\\n\" + few_shot_prompt + \"\\n\" + \"Classify the following headlines as real or fake:\\n\" \n",
    "few_shot_prompt"
   ],
   "metadata": {
    "collapsed": false
   },
   "id": "bf34e58546bd8fd9"
  },
  {
   "cell_type": "code",
   "outputs": [],
   "source": [
    "# Editing headlines to include few-shot prompt\n",
    "media_bias_test['few_shot_headline'] = few_shot_prompt + media_bias_test['headline']\n",
    "\n",
    "# Classify all news articles\n",
    "media_bias_test['few_shot_label'] = classifier(media_bias_test['few_shot_headline'].tolist(), candidate_labels, few_shot_prompt)\n",
    "media_bias_test"
   ],
   "metadata": {
    "collapsed": false
   },
   "id": "98fc16da91a96ae6"
  },
  {
   "cell_type": "code",
   "outputs": [],
   "source": [
    "# Comparing zero-shot and few-shot classification\n",
    "zero_shot_accuracy = (media_bias_test['zero_shot_label'].labels == media_bias_test['label']).mean()\n",
    "few_shot_accuracy = (media_bias_test['few_shot_label'].labels == media_bias_test['label']).mean()\n",
    "print('Zero-shot accuracy:', zero_shot_accuracy)\n",
    "print('Few-shot accuracy:', few_shot_accuracy)"
   ],
   "metadata": {
    "collapsed": false
   },
   "id": "137f2f5ef908360e"
  },
  {
   "cell_type": "markdown",
   "source": [
    "## Feature Extraction"
   ],
   "metadata": {
    "collapsed": false
   },
   "id": "bde917b91e26fd55"
  },
  {
   "cell_type": "code",
   "outputs": [],
   "source": [
    "fake_news_train = pd.reead_csv('fake_news_train.csv')\n",
    "\n",
    "# Initialize feature extraction pipeline\n",
    "model = SentenceTransformer('all-MiniLM-L6-v2')  \n",
    "\n",
    "# Extract features\n",
    "features = model.encode(fake_news_train['headline'].tolist())\n",
    "\n",
    "# Initialize classifier\n",
    "ridge = RidgeClassifierCV()\n",
    "\n",
    "# Train classifier\n",
    "ridge.fit(features, fake_news_train['label'])\n",
    "f\"Train accuracy: {ridge.score(features, fake_news_train['label'])}\""
   ],
   "metadata": {
    "collapsed": false
   },
   "id": "8c60ffe89614a76f"
  },
  {
   "cell_type": "code",
   "outputs": [],
   "source": [
    "# Extract features for test set\n",
    "test_features = model.encode(media_bias_test['headline'].tolist())\n",
    "\n",
    "# Test classifier\n",
    "f\"Test accuracy: {ridge.score(test_features, media_bias_test['label'])}\""
   ],
   "metadata": {
    "collapsed": false
   },
   "id": "f2814c31f5ab1686"
  },
  {
   "cell_type": "markdown",
   "source": [],
   "metadata": {
    "collapsed": false
   },
   "id": "42bac8e64474b362"
  }
 ],
 "metadata": {
  "kernelspec": {
   "display_name": "Python 3",
   "language": "python",
   "name": "python3"
  },
  "language_info": {
   "codemirror_mode": {
    "name": "ipython",
    "version": 2
   },
   "file_extension": ".py",
   "mimetype": "text/x-python",
   "name": "python",
   "nbconvert_exporter": "python",
   "pygments_lexer": "ipython2",
   "version": "2.7.6"
  }
 },
 "nbformat": 4,
 "nbformat_minor": 5
}
