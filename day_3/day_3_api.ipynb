{
 "cells": [
  {
   "cell_type": "markdown",
   "source": [
    "# Day 3 API (bonus)\n",
    "This notebook demonstrates how to use the Hugging Face and Open AI API to classify text as neutral or partisan. The main benefit of the API is that it allows us to run the latest, largest models without having the specialised hardware needed to run them (since the models are run on the cloud). We will use the `meta-llama/Meta-Llama-3-70B-Instruct` model from Hugging Face and the `gpt-4o` model from Open AI. The downside is that the API is not (always) free."
   ],
   "metadata": {
    "collapsed": false
   },
   "id": "8c6844cef32967b9"
  },
  {
   "cell_type": "markdown",
   "source": [
    "## Environment Setup"
   ],
   "metadata": {
    "collapsed": false
   },
   "id": "e4e3dda596b5a1a9"
  },
  {
   "cell_type": "code",
   "outputs": [],
   "source": [
    "import sys\n",
    "if 'google.colab' in sys.modules:  # If in Google Colab environment\n",
    "    # Mount google drive to enable access to data files\n",
    "    from google.colab import drive\n",
    "    drive.mount('/content/drive')\n",
    "    \n",
    "    # Installing requisite packages\n",
    "    !pip install transformers openai  &> /dev/null\n",
    "\n",
    "    # Change working directory to day_3\n",
    "    %cd /content/drive/MyDrive/LLM4BeSci_GSERM2024/day_3"
   ],
   "metadata": {
    "collapsed": false
   },
   "id": "29785427ecb9baa9"
  },
  {
   "cell_type": "markdown",
   "source": [
    "The code begins by loading some general libraries, the zero-shot prompt, and the same `media_bias_test.csv` file as in `day_3a.ipynb`. The goal will again be to classify the tweet as either `'neutral'` or `'partisan'`.  We will this time only use zero-shot classification, however the code can be easily adapted to few-shot as in `day_3a.ipynb`. "
   ],
   "metadata": {
    "collapsed": false
   },
   "id": "f15fd2b4f278e625"
  },
  {
   "cell_type": "code",
   "outputs": [],
   "source": [
    "import pandas as pd\n",
    "import seaborn as sns\n",
    "from tqdm.notebook import tqdm_notebook as tqdm"
   ],
   "metadata": {
    "collapsed": false,
    "ExecuteTime": {
     "end_time": "2024-06-12T08:11:18.475394Z",
     "start_time": "2024-06-12T08:11:18.472599Z"
    }
   },
   "id": "468da181cbe06b10",
   "execution_count": 25
  },
  {
   "cell_type": "code",
   "outputs": [
    {
     "data": {
      "text/plain": "                                               author   \n0             Dina Titus (Representative from Nevada)  \\\n1          Tim Griffin (Representative from Arkansas)   \n2          Alan Grayson (Representative from Florida)   \n3   Michelle Lujan Grisham (Representative from Ne...   \n4                   Dean Heller (Senator from Nevada)   \n..                                                ...   \n95         Andy Harris (Representative from Maryland)   \n96         Doug Collins (Representative from Georgia)   \n97     David Schweikert (Representative from Arizona)   \n98             Joe Barton (Representative from Texas)   \n99     Ann Kuster (Representative from New Hampshire)   \n\n                                                 text      bias          type   \n0   #FMLA has been helping families for 20 years, ...   neutral       support  \\\n1   Join me for another \"#SweetTea with Tim\" in #S...   neutral         media   \n2    The Original Chickenhawk. http://t.co/gqThSecLxB   neutral        policy   \n3   Like my @facebook page for updates on how I'm ...   neutral  mobilization   \n4   @NevadaWolfPack's own @Kaepernick7 = Best Brea...   neutral      personal   \n..                                                ...       ...           ...   \n95  13k plans at risk RT @ReutersUS: Aetna exits O...  partisan   information   \n96  Targeting conservatives by day, partying by ni...  partisan        policy   \n97  Great talk earlier tonight w/@TheKudlowReport....  partisan        policy   \n98  President calls for \"modern pipelines.\" What a...  partisan        attack   \n99  Met w/ the #NH Manufacturing Extension Partner...  partisan  constituency   \n\n        audience  \n0       national  \n1       national  \n2       national  \n3   constituency  \n4   constituency  \n..           ...  \n95      national  \n96      national  \n97      national  \n98      national  \n99  constituency  \n\n[100 rows x 5 columns]",
      "text/html": "<div>\n<style scoped>\n    .dataframe tbody tr th:only-of-type {\n        vertical-align: middle;\n    }\n\n    .dataframe tbody tr th {\n        vertical-align: top;\n    }\n\n    .dataframe thead th {\n        text-align: right;\n    }\n</style>\n<table border=\"1\" class=\"dataframe\">\n  <thead>\n    <tr style=\"text-align: right;\">\n      <th></th>\n      <th>author</th>\n      <th>text</th>\n      <th>bias</th>\n      <th>type</th>\n      <th>audience</th>\n    </tr>\n  </thead>\n  <tbody>\n    <tr>\n      <th>0</th>\n      <td>Dina Titus (Representative from Nevada)</td>\n      <td>#FMLA has been helping families for 20 years, ...</td>\n      <td>neutral</td>\n      <td>support</td>\n      <td>national</td>\n    </tr>\n    <tr>\n      <th>1</th>\n      <td>Tim Griffin (Representative from Arkansas)</td>\n      <td>Join me for another \"#SweetTea with Tim\" in #S...</td>\n      <td>neutral</td>\n      <td>media</td>\n      <td>national</td>\n    </tr>\n    <tr>\n      <th>2</th>\n      <td>Alan Grayson (Representative from Florida)</td>\n      <td>The Original Chickenhawk. http://t.co/gqThSecLxB</td>\n      <td>neutral</td>\n      <td>policy</td>\n      <td>national</td>\n    </tr>\n    <tr>\n      <th>3</th>\n      <td>Michelle Lujan Grisham (Representative from Ne...</td>\n      <td>Like my @facebook page for updates on how I'm ...</td>\n      <td>neutral</td>\n      <td>mobilization</td>\n      <td>constituency</td>\n    </tr>\n    <tr>\n      <th>4</th>\n      <td>Dean Heller (Senator from Nevada)</td>\n      <td>@NevadaWolfPack's own @Kaepernick7 = Best Brea...</td>\n      <td>neutral</td>\n      <td>personal</td>\n      <td>constituency</td>\n    </tr>\n    <tr>\n      <th>...</th>\n      <td>...</td>\n      <td>...</td>\n      <td>...</td>\n      <td>...</td>\n      <td>...</td>\n    </tr>\n    <tr>\n      <th>95</th>\n      <td>Andy Harris (Representative from Maryland)</td>\n      <td>13k plans at risk RT @ReutersUS: Aetna exits O...</td>\n      <td>partisan</td>\n      <td>information</td>\n      <td>national</td>\n    </tr>\n    <tr>\n      <th>96</th>\n      <td>Doug Collins (Representative from Georgia)</td>\n      <td>Targeting conservatives by day, partying by ni...</td>\n      <td>partisan</td>\n      <td>policy</td>\n      <td>national</td>\n    </tr>\n    <tr>\n      <th>97</th>\n      <td>David Schweikert (Representative from Arizona)</td>\n      <td>Great talk earlier tonight w/@TheKudlowReport....</td>\n      <td>partisan</td>\n      <td>policy</td>\n      <td>national</td>\n    </tr>\n    <tr>\n      <th>98</th>\n      <td>Joe Barton (Representative from Texas)</td>\n      <td>President calls for \"modern pipelines.\" What a...</td>\n      <td>partisan</td>\n      <td>attack</td>\n      <td>national</td>\n    </tr>\n    <tr>\n      <th>99</th>\n      <td>Ann Kuster (Representative from New Hampshire)</td>\n      <td>Met w/ the #NH Manufacturing Extension Partner...</td>\n      <td>partisan</td>\n      <td>constituency</td>\n      <td>constituency</td>\n    </tr>\n  </tbody>\n</table>\n<p>100 rows × 5 columns</p>\n</div>"
     },
     "execution_count": 26,
     "metadata": {},
     "output_type": "execute_result"
    }
   ],
   "source": [
    "media_bias_test = pd.read_csv('media_bias_test.csv')\n",
    "media_bias_test"
   ],
   "metadata": {
    "collapsed": false,
    "ExecuteTime": {
     "end_time": "2024-06-12T08:11:18.927789Z",
     "start_time": "2024-06-12T08:11:18.916493Z"
    }
   },
   "id": "26d7a352d2309870",
   "execution_count": 26
  },
  {
   "cell_type": "code",
   "outputs": [],
   "source": [
    "zero_shot_prompt = \"Is this text neutral or partisan? Strictly answer with only 'neutral' or 'partisan':\\n\""
   ],
   "metadata": {
    "collapsed": false,
    "ExecuteTime": {
     "end_time": "2024-06-12T08:11:20.087253Z",
     "start_time": "2024-06-12T08:11:20.084405Z"
    }
   },
   "id": "7068281f022fdf16",
   "execution_count": 27
  },
  {
   "cell_type": "markdown",
   "source": [
    "## Hugging Face API\n",
    "\n",
    "In order to use the Hugging Face API, you will need to follow the following steps:\n",
    "\n",
    "1.  Make sure you have a hugging Face account (https://huggingface.co/join)\n",
    "2. Go to the [Llama-3 model page](https://huggingface.co/meta-llama/Meta-Llama-3-70B-Instruct) and fill in the 'META LLAMA 3 COMMUNITY LICENSE AGREEMENT' form at the top of the page in order to get access to the model (this may take a few days). \n",
    "3. Once you have been granted access, you can navigate to [in your Hugging Face profile settings](https://huggingface.co/settings/tokens) to get the model's API access token. This token should provide access to all models in the Llama family. \n",
    "4. If you wish to run the largest (70B parameter) version of Llama-3, you will need to have a Hugging Face PRO subscription (currently $9/month). You can also run the smaller versions for free.\n",
    "\n",
    "The Hugging Face API code begins importing the `InferenceClient` class from the `huggingface_hub` library. The `InferenceClient` provides a high-level API to interact with models hosted on the Hugging Face Hub. "
   ],
   "metadata": {
    "collapsed": false
   },
   "id": "dff2d7a182ac5c61"
  },
  {
   "cell_type": "code",
   "outputs": [],
   "source": [
    "from huggingface_hub import InferenceClient"
   ],
   "metadata": {
    "collapsed": false,
    "ExecuteTime": {
     "end_time": "2024-06-12T08:11:20.817465Z",
     "start_time": "2024-06-12T08:11:20.814286Z"
    }
   },
   "id": "3f32d0a87ccaaba0",
   "execution_count": 28
  },
  {
   "cell_type": "markdown",
   "source": [
    "The code next initializes the `InferenceClient` with the access token, *which you will need to replace with your own access token* (access tokens start with 'hf_...') it then loops through the tweets in the `media_bias_test` dataframe just as in `day_3a.ipynb`. The code then generates the output using the `chat_completion` method of the `InferenceClient` class. This allows us to play around with certain generation-related parameters such as `max_tokens` and `temperature`. \n",
    "\n",
    "The output is then parsed to extract the label, which is then appended to the `zero_shot_labels` list. The code then adds the `zero_shot_labels` list to the `media_bias_test` dataframe."
   ],
   "metadata": {
    "collapsed": false
   },
   "id": "518e9af07bf70cce"
  },
  {
   "cell_type": "code",
   "outputs": [
    {
     "data": {
      "text/plain": "  0%|          | 0/100 [00:00<?, ?it/s]",
      "application/vnd.jupyter.widget-view+json": {
       "version_major": 2,
       "version_minor": 0,
       "model_id": "026bd82dc9f542e9996b00d35913f524"
      }
     },
     "metadata": {},
     "output_type": "display_data"
    },
    {
     "name": "stdout",
     "output_type": "stream",
     "text": [
      "partisan\n",
      "---------------------\n",
      "neutral\n",
      "---------------------\n",
      "partisan\n",
      "---------------------\n",
      "partisan\n",
      "---------------------\n",
      "neutral\n",
      "---------------------\n",
      "neutral\n",
      "---------------------\n",
      "partisan\n",
      "---------------------\n",
      "partisan\n",
      "---------------------\n",
      "neutral\n",
      "---------------------\n",
      "neutral\n",
      "---------------------\n",
      "neutral\n",
      "---------------------\n",
      "partisan\n",
      "---------------------\n",
      "neutral\n",
      "---------------------\n",
      "neutral\n",
      "---------------------\n",
      "neutral\n",
      "---------------------\n",
      "neutral\n",
      "---------------------\n",
      "neutral\n",
      "---------------------\n",
      "neutral\n",
      "---------------------\n",
      "neutral\n",
      "---------------------\n",
      "partisan\n",
      "---------------------\n",
      "neutral\n",
      "---------------------\n",
      "partisan\n",
      "---------------------\n",
      "neutral\n",
      "---------------------\n",
      "neutral\n",
      "---------------------\n",
      "partisan\n",
      "---------------------\n",
      "neutral\n",
      "---------------------\n",
      "partisan\n",
      "---------------------\n",
      "neutral\n",
      "---------------------\n",
      "neutral\n",
      "---------------------\n",
      "neutral\n",
      "---------------------\n",
      "partisan\n",
      "---------------------\n",
      "neutral\n",
      "---------------------\n",
      "partisan\n",
      "---------------------\n",
      "neutral\n",
      "---------------------\n",
      "neutral\n",
      "---------------------\n",
      "neutral\n",
      "---------------------\n",
      "neutral\n",
      "---------------------\n",
      "neutral\n",
      "---------------------\n",
      "neutral\n",
      "---------------------\n",
      "partisan\n",
      "---------------------\n",
      "neutral\n",
      "---------------------\n",
      "neutral\n",
      "---------------------\n",
      "partisan\n",
      "---------------------\n",
      "neutral\n",
      "---------------------\n",
      "neutral\n",
      "---------------------\n",
      "neutral\n",
      "---------------------\n",
      "neutral\n",
      "---------------------\n",
      "partisan\n",
      "---------------------\n",
      "neutral\n",
      "---------------------\n",
      "neutral\n",
      "---------------------\n",
      "partisan\n",
      "---------------------\n",
      "partisan\n",
      "---------------------\n",
      "partisan\n",
      "---------------------\n",
      "partisan\n",
      "---------------------\n",
      "partisan\n",
      "---------------------\n",
      "partisan\n",
      "---------------------\n",
      "partisan\n",
      "---------------------\n",
      "partisan\n",
      "---------------------\n",
      "partisan\n",
      "---------------------\n",
      "partisan\n",
      "---------------------\n",
      "neutral\n",
      "---------------------\n",
      "neutral\n",
      "---------------------\n",
      "neutral\n",
      "---------------------\n",
      "neutral\n",
      "---------------------\n",
      "neutral\n",
      "---------------------\n",
      "partisan\n",
      "---------------------\n",
      "neutral\n",
      "---------------------\n",
      "partisan\n",
      "---------------------\n",
      "partisan\n",
      "---------------------\n",
      "partisan\n",
      "---------------------\n",
      "partisan\n",
      "---------------------\n",
      "neutral\n",
      "---------------------\n",
      "partisan\n",
      "---------------------\n",
      "neutral\n",
      "---------------------\n",
      "partisan\n",
      "---------------------\n",
      "neutral\n",
      "---------------------\n",
      "neutral\n",
      "---------------------\n",
      "partisan\n",
      "---------------------\n",
      "partisan\n",
      "---------------------\n",
      "partisan\n",
      "---------------------\n",
      "neutral\n",
      "---------------------\n",
      "partisan\n",
      "---------------------\n",
      "partisan\n",
      "---------------------\n",
      "partisan\n",
      "---------------------\n",
      "partisan\n",
      "---------------------\n",
      "partisan\n",
      "---------------------\n",
      "neutral\n",
      "---------------------\n",
      "partisan\n",
      "---------------------\n",
      "partisan\n",
      "---------------------\n",
      "neutral\n",
      "---------------------\n",
      "neutral\n",
      "---------------------\n",
      "partisan\n",
      "---------------------\n",
      "partisan\n",
      "---------------------\n",
      "neutral\n",
      "---------------------\n",
      "partisan\n",
      "---------------------\n",
      "neutral\n",
      "---------------------\n",
      "partisan\n",
      "---------------------\n",
      "neutral\n",
      "---------------------\n",
      "partisan\n",
      "---------------------\n",
      "neutral\n",
      "---------------------\n"
     ]
    },
    {
     "data": {
      "text/plain": "                                               author   \n0             Dina Titus (Representative from Nevada)  \\\n1          Tim Griffin (Representative from Arkansas)   \n2          Alan Grayson (Representative from Florida)   \n3   Michelle Lujan Grisham (Representative from Ne...   \n4                   Dean Heller (Senator from Nevada)   \n..                                                ...   \n95         Andy Harris (Representative from Maryland)   \n96         Doug Collins (Representative from Georgia)   \n97     David Schweikert (Representative from Arizona)   \n98             Joe Barton (Representative from Texas)   \n99     Ann Kuster (Representative from New Hampshire)   \n\n                                                 text      bias          type   \n0   #FMLA has been helping families for 20 years, ...   neutral       support  \\\n1   Join me for another \"#SweetTea with Tim\" in #S...   neutral         media   \n2    The Original Chickenhawk. http://t.co/gqThSecLxB   neutral        policy   \n3   Like my @facebook page for updates on how I'm ...   neutral  mobilization   \n4   @NevadaWolfPack's own @Kaepernick7 = Best Brea...   neutral      personal   \n..                                                ...       ...           ...   \n95  13k plans at risk RT @ReutersUS: Aetna exits O...  partisan   information   \n96  Targeting conservatives by day, partying by ni...  partisan        policy   \n97  Great talk earlier tonight w/@TheKudlowReport....  partisan        policy   \n98  President calls for \"modern pipelines.\" What a...  partisan        attack   \n99  Met w/ the #NH Manufacturing Extension Partner...  partisan  constituency   \n\n        audience zero_shot_label  \n0       national        partisan  \n1       national         neutral  \n2       national        partisan  \n3   constituency        partisan  \n4   constituency         neutral  \n..           ...             ...  \n95      national         neutral  \n96      national        partisan  \n97      national         neutral  \n98      national        partisan  \n99  constituency         neutral  \n\n[100 rows x 6 columns]",
      "text/html": "<div>\n<style scoped>\n    .dataframe tbody tr th:only-of-type {\n        vertical-align: middle;\n    }\n\n    .dataframe tbody tr th {\n        vertical-align: top;\n    }\n\n    .dataframe thead th {\n        text-align: right;\n    }\n</style>\n<table border=\"1\" class=\"dataframe\">\n  <thead>\n    <tr style=\"text-align: right;\">\n      <th></th>\n      <th>author</th>\n      <th>text</th>\n      <th>bias</th>\n      <th>type</th>\n      <th>audience</th>\n      <th>zero_shot_label</th>\n    </tr>\n  </thead>\n  <tbody>\n    <tr>\n      <th>0</th>\n      <td>Dina Titus (Representative from Nevada)</td>\n      <td>#FMLA has been helping families for 20 years, ...</td>\n      <td>neutral</td>\n      <td>support</td>\n      <td>national</td>\n      <td>partisan</td>\n    </tr>\n    <tr>\n      <th>1</th>\n      <td>Tim Griffin (Representative from Arkansas)</td>\n      <td>Join me for another \"#SweetTea with Tim\" in #S...</td>\n      <td>neutral</td>\n      <td>media</td>\n      <td>national</td>\n      <td>neutral</td>\n    </tr>\n    <tr>\n      <th>2</th>\n      <td>Alan Grayson (Representative from Florida)</td>\n      <td>The Original Chickenhawk. http://t.co/gqThSecLxB</td>\n      <td>neutral</td>\n      <td>policy</td>\n      <td>national</td>\n      <td>partisan</td>\n    </tr>\n    <tr>\n      <th>3</th>\n      <td>Michelle Lujan Grisham (Representative from Ne...</td>\n      <td>Like my @facebook page for updates on how I'm ...</td>\n      <td>neutral</td>\n      <td>mobilization</td>\n      <td>constituency</td>\n      <td>partisan</td>\n    </tr>\n    <tr>\n      <th>4</th>\n      <td>Dean Heller (Senator from Nevada)</td>\n      <td>@NevadaWolfPack's own @Kaepernick7 = Best Brea...</td>\n      <td>neutral</td>\n      <td>personal</td>\n      <td>constituency</td>\n      <td>neutral</td>\n    </tr>\n    <tr>\n      <th>...</th>\n      <td>...</td>\n      <td>...</td>\n      <td>...</td>\n      <td>...</td>\n      <td>...</td>\n      <td>...</td>\n    </tr>\n    <tr>\n      <th>95</th>\n      <td>Andy Harris (Representative from Maryland)</td>\n      <td>13k plans at risk RT @ReutersUS: Aetna exits O...</td>\n      <td>partisan</td>\n      <td>information</td>\n      <td>national</td>\n      <td>neutral</td>\n    </tr>\n    <tr>\n      <th>96</th>\n      <td>Doug Collins (Representative from Georgia)</td>\n      <td>Targeting conservatives by day, partying by ni...</td>\n      <td>partisan</td>\n      <td>policy</td>\n      <td>national</td>\n      <td>partisan</td>\n    </tr>\n    <tr>\n      <th>97</th>\n      <td>David Schweikert (Representative from Arizona)</td>\n      <td>Great talk earlier tonight w/@TheKudlowReport....</td>\n      <td>partisan</td>\n      <td>policy</td>\n      <td>national</td>\n      <td>neutral</td>\n    </tr>\n    <tr>\n      <th>98</th>\n      <td>Joe Barton (Representative from Texas)</td>\n      <td>President calls for \"modern pipelines.\" What a...</td>\n      <td>partisan</td>\n      <td>attack</td>\n      <td>national</td>\n      <td>partisan</td>\n    </tr>\n    <tr>\n      <th>99</th>\n      <td>Ann Kuster (Representative from New Hampshire)</td>\n      <td>Met w/ the #NH Manufacturing Extension Partner...</td>\n      <td>partisan</td>\n      <td>constituency</td>\n      <td>constituency</td>\n      <td>neutral</td>\n    </tr>\n  </tbody>\n</table>\n<p>100 rows × 6 columns</p>\n</div>"
     },
     "execution_count": 29,
     "metadata": {},
     "output_type": "execute_result"
    }
   ],
   "source": [
    "# Initialize client\n",
    "api_key = '<your access token here>' \n",
    "client = InferenceClient(token=api_key)\n",
    "\n",
    "zero_shot_labels = []\n",
    "for tweet in tqdm(media_bias_test['text']):    \n",
    "    \n",
    "    # Zero-shot classification \n",
    "    output = client.chat_completion(\n",
    "        messages=[{\"role\": \"user\", \"content\": zero_shot_prompt + tweet}],\n",
    "        model=\"meta-llama/Meta-Llama-3-70B-Instruct\",\n",
    "        max_tokens=100,\n",
    "        temperature=0.0\n",
    "    ).choices[0].message.content.lower()\n",
    "    \n",
    "    # Extract label and append to list\n",
    "    label = 'neutral' if 'neutral' in output else 'partisan' if 'partisan' in output else 'nan' # \n",
    "    zero_shot_labels.append(label)\n",
    "\n",
    "# Add zero-shot labels to dataframe\n",
    "media_bias_test['zero_shot_label'] = zero_shot_labels\n",
    "media_bias_test"
   ],
   "metadata": {
    "collapsed": false,
    "ExecuteTime": {
     "end_time": "2024-06-12T08:12:45.735353Z",
     "start_time": "2024-06-12T08:11:27.400775Z"
    }
   },
   "id": "58c0299c45039bf5",
   "execution_count": 29
  },
  {
   "cell_type": "markdown",
   "source": [
    "As you can see, the accuracy of  `'Meta-Llama-3-70B-Instruct'` is roughly on par with `'Phi-3-mini-128k-instruct'` from `day_3a.ipynb`. This demonstrates that the larger model does not always outperform the smaller one:"
   ],
   "metadata": {
    "collapsed": false
   },
   "id": "325a0ed5c64dd67b"
  },
  {
   "cell_type": "code",
   "outputs": [
    {
     "name": "stdout",
     "output_type": "stream",
     "text": [
      "Zero-shot accuracy: 0.67\n"
     ]
    }
   ],
   "source": [
    "# Comparing zero-shot and actual labels\n",
    "print(f'Zero-shot accuracy: {(media_bias_test[\"zero_shot_label\"] == media_bias_test[\"bias\"]).mean()}')"
   ],
   "metadata": {
    "collapsed": false,
    "ExecuteTime": {
     "end_time": "2024-06-12T08:12:49.901263Z",
     "start_time": "2024-06-12T08:12:49.890896Z"
    }
   },
   "id": "3acb73d24c9a71b0",
   "execution_count": 31
  },
  {
   "cell_type": "code",
   "outputs": [
    {
     "data": {
      "text/plain": "<Axes: xlabel='zero_shot_label', ylabel='bias'>"
     },
     "execution_count": 32,
     "metadata": {},
     "output_type": "execute_result"
    },
    {
     "data": {
      "text/plain": "<Figure size 640x480 with 2 Axes>",
      "image/png": "[encoded data removed]"
     },
     "metadata": {},
     "output_type": "display_data"
    }
   ],
   "source": [
    "# Confusion matrix\n",
    "confusion = pd.crosstab(media_bias_test['bias'], media_bias_test['zero_shot_label'])\n",
    "sns.heatmap(confusion, annot=True)"
   ],
   "metadata": {
    "collapsed": false,
    "ExecuteTime": {
     "end_time": "2024-06-12T08:12:54.626890Z",
     "start_time": "2024-06-12T08:12:54.458117Z"
    }
   },
   "id": "f16ae4dd60624499",
   "execution_count": 32
  },
  {
   "cell_type": "markdown",
   "source": [
    "**TASK 1**: Try playing around with different `temperature` values (e.g. 0.5, 1.0, and 3.0) and see how it affects the accuracy."
   ],
   "metadata": {
    "collapsed": false
   },
   "id": "de549216f3999d51"
  },
  {
   "cell_type": "markdown",
   "source": [
    "## Open AI API\n",
    "We now demonstrate how to do the same as the above using Open AI API. In order to use the Open AI API, you will need to follow the following steps:\n",
    "\n",
    "1. [Create an Open AI account](https://platform.openai.com/signup)\n",
    "2. Navigate to your Profile's [billing page](https://platform.openai.com/settings/organization/billing/overview) and add some funds to your account (the minimum of $5 will be more than enough for this task).\n",
    "3. Navigate to your Profile's [API keys page](https://platform.openai.com/api-keys) and create a new API key.\n",
    "\n",
    "The code begins by importing the `OpenAI` class from the `openai` library. The `OpenAI` class provides a high-level API to interact with models hosted on the Open AI platform."
   ],
   "metadata": {
    "collapsed": false
   },
   "id": "9887e5fc020df1e8"
  },
  {
   "cell_type": "code",
   "outputs": [],
   "source": [
    "from openai import OpenAI"
   ],
   "metadata": {
    "collapsed": false,
    "ExecuteTime": {
     "end_time": "2024-06-12T08:16:00.494596Z",
     "start_time": "2024-06-12T08:16:00.228206Z"
    }
   },
   "id": "fb7457a48a5f8e6e",
   "execution_count": 33
  },
  {
   "cell_type": "markdown",
   "source": [
    "The code next initializes the `OpenAI` class with the API key, *which you will need to replace with your own API key*. The code then generates the output using the `chat.completions.create` method of the `OpenAI` class. This allows us to play around with certain generation-related parameters such as `max_tokens` and `temperature`."
   ],
   "metadata": {
    "collapsed": false
   },
   "id": "8ff1899b876a0f39"
  },
  {
   "cell_type": "code",
   "outputs": [
    {
     "data": {
      "text/plain": "  0%|          | 0/100 [00:00<?, ?it/s]",
      "application/vnd.jupyter.widget-view+json": {
       "version_major": 2,
       "version_minor": 0,
       "model_id": "18f3da676d034bb3a86637f1c4d6f6f4"
      }
     },
     "metadata": {},
     "output_type": "display_data"
    },
    {
     "name": "stdout",
     "output_type": "stream",
     "text": [
      "partisan\n",
      "---------------------\n",
      "neutral\n",
      "---------------------\n",
      "partisan\n",
      "---------------------\n",
      "neutral\n",
      "---------------------\n",
      "neutral\n",
      "---------------------\n",
      "neutral\n",
      "---------------------\n",
      "partisan\n",
      "---------------------\n",
      "partisan\n",
      "---------------------\n",
      "neutral\n",
      "---------------------\n",
      "neutral\n",
      "---------------------\n",
      "neutral\n",
      "---------------------\n",
      "partisan\n",
      "---------------------\n",
      "neutral\n",
      "---------------------\n",
      "neutral\n",
      "---------------------\n",
      "neutral\n",
      "---------------------\n",
      "neutral\n",
      "---------------------\n",
      "neutral\n",
      "---------------------\n",
      "neutral\n",
      "---------------------\n",
      "neutral\n",
      "---------------------\n",
      "partisan\n",
      "---------------------\n",
      "neutral\n",
      "---------------------\n",
      "partisan\n",
      "---------------------\n",
      "neutral\n",
      "---------------------\n",
      "neutral\n",
      "---------------------\n",
      "partisan\n",
      "---------------------\n",
      "neutral\n",
      "---------------------\n",
      "partisan\n",
      "---------------------\n",
      "neutral\n",
      "---------------------\n",
      "neutral\n",
      "---------------------\n",
      "neutral\n",
      "---------------------\n",
      "partisan\n",
      "---------------------\n",
      "neutral\n",
      "---------------------\n",
      "partisan\n",
      "---------------------\n",
      "partisan\n",
      "---------------------\n",
      "neutral\n",
      "---------------------\n",
      "neutral\n",
      "---------------------\n",
      "neutral\n",
      "---------------------\n",
      "partisan\n",
      "---------------------\n",
      "neutral\n",
      "---------------------\n",
      "partisan\n",
      "---------------------\n",
      "neutral\n",
      "---------------------\n",
      "partisan\n",
      "---------------------\n",
      "partisan\n",
      "---------------------\n",
      "neutral\n",
      "---------------------\n",
      "neutral\n",
      "---------------------\n",
      "neutral\n",
      "---------------------\n",
      "neutral\n",
      "---------------------\n",
      "neutral\n",
      "---------------------\n",
      "neutral\n",
      "---------------------\n",
      "neutral\n",
      "---------------------\n",
      "partisan\n",
      "---------------------\n",
      "partisan\n",
      "---------------------\n",
      "partisan\n",
      "---------------------\n",
      "partisan\n",
      "---------------------\n",
      "partisan\n",
      "---------------------\n",
      "partisan\n",
      "---------------------\n",
      "partisan\n",
      "---------------------\n",
      "partisan\n",
      "---------------------\n",
      "partisan\n",
      "---------------------\n",
      "partisan\n",
      "---------------------\n",
      "neutral\n",
      "---------------------\n",
      "neutral\n",
      "---------------------\n",
      "partisan\n",
      "---------------------\n",
      "partisan\n",
      "---------------------\n",
      "partisan\n",
      "---------------------\n",
      "partisan\n",
      "---------------------\n",
      "partisan\n",
      "---------------------\n",
      "partisan\n",
      "---------------------\n",
      "partisan\n",
      "---------------------\n",
      "partisan\n",
      "---------------------\n",
      "partisan\n",
      "---------------------\n",
      "neutral\n",
      "---------------------\n",
      "partisan\n",
      "---------------------\n",
      "neutral\n",
      "---------------------\n",
      "partisan\n",
      "---------------------\n",
      "partisan\n",
      "---------------------\n",
      "neutral\n",
      "---------------------\n",
      "partisan\n",
      "---------------------\n",
      "partisan\n",
      "---------------------\n",
      "partisan\n",
      "---------------------\n",
      "neutral\n",
      "---------------------\n",
      "partisan\n",
      "---------------------\n",
      "partisan\n",
      "---------------------\n",
      "partisan\n",
      "---------------------\n",
      "partisan\n",
      "---------------------\n",
      "partisan\n",
      "---------------------\n",
      "neutral\n",
      "---------------------\n",
      "partisan\n",
      "---------------------\n",
      "partisan\n",
      "---------------------\n",
      "neutral\n",
      "---------------------\n",
      "neutral\n",
      "---------------------\n",
      "partisan\n",
      "---------------------\n",
      "partisan\n",
      "---------------------\n",
      "neutral\n",
      "---------------------\n",
      "partisan\n",
      "---------------------\n",
      "partisan\n",
      "---------------------\n",
      "partisan\n",
      "---------------------\n",
      "partisan\n",
      "---------------------\n",
      "partisan\n",
      "---------------------\n",
      "neutral\n",
      "---------------------\n"
     ]
    },
    {
     "data": {
      "text/plain": "                                               author   \n0             Dina Titus (Representative from Nevada)  \\\n1          Tim Griffin (Representative from Arkansas)   \n2          Alan Grayson (Representative from Florida)   \n3   Michelle Lujan Grisham (Representative from Ne...   \n4                   Dean Heller (Senator from Nevada)   \n..                                                ...   \n95         Andy Harris (Representative from Maryland)   \n96         Doug Collins (Representative from Georgia)   \n97     David Schweikert (Representative from Arizona)   \n98             Joe Barton (Representative from Texas)   \n99     Ann Kuster (Representative from New Hampshire)   \n\n                                                 text      bias          type   \n0   #FMLA has been helping families for 20 years, ...   neutral       support  \\\n1   Join me for another \"#SweetTea with Tim\" in #S...   neutral         media   \n2    The Original Chickenhawk. http://t.co/gqThSecLxB   neutral        policy   \n3   Like my @facebook page for updates on how I'm ...   neutral  mobilization   \n4   @NevadaWolfPack's own @Kaepernick7 = Best Brea...   neutral      personal   \n..                                                ...       ...           ...   \n95  13k plans at risk RT @ReutersUS: Aetna exits O...  partisan   information   \n96  Targeting conservatives by day, partying by ni...  partisan        policy   \n97  Great talk earlier tonight w/@TheKudlowReport....  partisan        policy   \n98  President calls for \"modern pipelines.\" What a...  partisan        attack   \n99  Met w/ the #NH Manufacturing Extension Partner...  partisan  constituency   \n\n        audience zero_shot_label  \n0       national        partisan  \n1       national         neutral  \n2       national        partisan  \n3   constituency         neutral  \n4   constituency         neutral  \n..           ...             ...  \n95      national        partisan  \n96      national        partisan  \n97      national        partisan  \n98      national        partisan  \n99  constituency         neutral  \n\n[100 rows x 6 columns]",
      "text/html": "<div>\n<style scoped>\n    .dataframe tbody tr th:only-of-type {\n        vertical-align: middle;\n    }\n\n    .dataframe tbody tr th {\n        vertical-align: top;\n    }\n\n    .dataframe thead th {\n        text-align: right;\n    }\n</style>\n<table border=\"1\" class=\"dataframe\">\n  <thead>\n    <tr style=\"text-align: right;\">\n      <th></th>\n      <th>author</th>\n      <th>text</th>\n      <th>bias</th>\n      <th>type</th>\n      <th>audience</th>\n      <th>zero_shot_label</th>\n    </tr>\n  </thead>\n  <tbody>\n    <tr>\n      <th>0</th>\n      <td>Dina Titus (Representative from Nevada)</td>\n      <td>#FMLA has been helping families for 20 years, ...</td>\n      <td>neutral</td>\n      <td>support</td>\n      <td>national</td>\n      <td>partisan</td>\n    </tr>\n    <tr>\n      <th>1</th>\n      <td>Tim Griffin (Representative from Arkansas)</td>\n      <td>Join me for another \"#SweetTea with Tim\" in #S...</td>\n      <td>neutral</td>\n      <td>media</td>\n      <td>national</td>\n      <td>neutral</td>\n    </tr>\n    <tr>\n      <th>2</th>\n      <td>Alan Grayson (Representative from Florida)</td>\n      <td>The Original Chickenhawk. http://t.co/gqThSecLxB</td>\n      <td>neutral</td>\n      <td>policy</td>\n      <td>national</td>\n      <td>partisan</td>\n    </tr>\n    <tr>\n      <th>3</th>\n      <td>Michelle Lujan Grisham (Representative from Ne...</td>\n      <td>Like my @facebook page for updates on how I'm ...</td>\n      <td>neutral</td>\n      <td>mobilization</td>\n      <td>constituency</td>\n      <td>neutral</td>\n    </tr>\n    <tr>\n      <th>4</th>\n      <td>Dean Heller (Senator from Nevada)</td>\n      <td>@NevadaWolfPack's own @Kaepernick7 = Best Brea...</td>\n      <td>neutral</td>\n      <td>personal</td>\n      <td>constituency</td>\n      <td>neutral</td>\n    </tr>\n    <tr>\n      <th>...</th>\n      <td>...</td>\n      <td>...</td>\n      <td>...</td>\n      <td>...</td>\n      <td>...</td>\n      <td>...</td>\n    </tr>\n    <tr>\n      <th>95</th>\n      <td>Andy Harris (Representative from Maryland)</td>\n      <td>13k plans at risk RT @ReutersUS: Aetna exits O...</td>\n      <td>partisan</td>\n      <td>information</td>\n      <td>national</td>\n      <td>partisan</td>\n    </tr>\n    <tr>\n      <th>96</th>\n      <td>Doug Collins (Representative from Georgia)</td>\n      <td>Targeting conservatives by day, partying by ni...</td>\n      <td>partisan</td>\n      <td>policy</td>\n      <td>national</td>\n      <td>partisan</td>\n    </tr>\n    <tr>\n      <th>97</th>\n      <td>David Schweikert (Representative from Arizona)</td>\n      <td>Great talk earlier tonight w/@TheKudlowReport....</td>\n      <td>partisan</td>\n      <td>policy</td>\n      <td>national</td>\n      <td>partisan</td>\n    </tr>\n    <tr>\n      <th>98</th>\n      <td>Joe Barton (Representative from Texas)</td>\n      <td>President calls for \"modern pipelines.\" What a...</td>\n      <td>partisan</td>\n      <td>attack</td>\n      <td>national</td>\n      <td>partisan</td>\n    </tr>\n    <tr>\n      <th>99</th>\n      <td>Ann Kuster (Representative from New Hampshire)</td>\n      <td>Met w/ the #NH Manufacturing Extension Partner...</td>\n      <td>partisan</td>\n      <td>constituency</td>\n      <td>constituency</td>\n      <td>neutral</td>\n    </tr>\n  </tbody>\n</table>\n<p>100 rows × 6 columns</p>\n</div>"
     },
     "execution_count": 35,
     "metadata": {},
     "output_type": "execute_result"
    }
   ],
   "source": [
    "# Initialize client\n",
    "api_key = '<your api key here>'\n",
    "client = OpenAI(api_key=api_key)\n",
    "\n",
    "zero_shot_labels = []\n",
    "for tweet in tqdm(media_bias_test['text']):\n",
    "    \n",
    "    # Zero-shot classification\n",
    "    output = client.chat.completions.create(\n",
    "        messages=[{\"role\": \"user\", \"content\": zero_shot_prompt + tweet}],\n",
    "        model=\"gpt-4o\",\n",
    "        max_tokens=10,\n",
    "        temperature=0.0\n",
    "    ).choices[0].message.content.lower()\n",
    "    \n",
    "    # Extract label and append to list\n",
    "    label = 'neutral' if 'neutral' in output else 'partisan' if 'partisan' in output else 'nan' # \n",
    "    zero_shot_labels.append(label)\n",
    "\n",
    "media_bias_test['zero_shot_label'] = zero_shot_labels\n",
    "media_bias_test"
   ],
   "metadata": {
    "collapsed": false,
    "ExecuteTime": {
     "end_time": "2024-06-12T08:17:48.926321Z",
     "start_time": "2024-06-12T08:16:49.475547Z"
    }
   },
   "id": "75f50857b05a1094",
   "execution_count": 35
  },
  {
   "cell_type": "markdown",
   "source": [
    "As you can see, the accuracy of  `'gpt-4o'` is considerably better than `'Meta-Llama-3-70B-Instruct'` and `'Phi-3-mini-128k-instruct'`, now at 73%:"
   ],
   "metadata": {
    "collapsed": false
   },
   "id": "e6e1cd923ea97b60"
  },
  {
   "cell_type": "code",
   "outputs": [
    {
     "name": "stdout",
     "output_type": "stream",
     "text": [
      "Zero-shot accuracy: 0.73\n"
     ]
    }
   ],
   "source": [
    "# Comparing zero-shot and actual labels\n",
    "print(f'Zero-shot accuracy: {(media_bias_test[\"zero_shot_label\"] == media_bias_test[\"bias\"]).mean()}')"
   ],
   "metadata": {
    "collapsed": false,
    "ExecuteTime": {
     "end_time": "2024-06-12T08:18:13.988888Z",
     "start_time": "2024-06-12T08:18:13.984629Z"
    }
   },
   "id": "af82f3c4243f2cdb",
   "execution_count": 37
  },
  {
   "cell_type": "code",
   "outputs": [
    {
     "data": {
      "text/plain": "<Axes: xlabel='zero_shot_label', ylabel='bias'>"
     },
     "execution_count": 38,
     "metadata": {},
     "output_type": "execute_result"
    },
    {
     "data": {
      "text/plain": "<Figure size 640x480 with 2 Axes>",
      "image/png": "[encoded data removed]"
     },
     "metadata": {},
     "output_type": "display_data"
    }
   ],
   "source": [
    "# Confusion matrix\n",
    "confusion = pd.crosstab(media_bias_test['bias'], media_bias_test['zero_shot_label'])\n",
    "sns.heatmap(confusion, annot=True)"
   ],
   "metadata": {
    "collapsed": false,
    "ExecuteTime": {
     "end_time": "2024-06-12T08:18:19.649096Z",
     "start_time": "2024-06-12T08:18:19.531408Z"
    }
   },
   "id": "c850c08ab42c7157",
   "execution_count": 38
  },
  {
   "cell_type": "markdown",
   "source": [
    "**TASK 1**: Again try playing around with different `temperature` values (e.g. 0.5, 1.0, and 3.0) and see how it affects the accuracy.\n",
    "**TASK 2**: Try adapting the code from `day_3a.ipynb` to use few-shot classification instead of zero-shot classification. Does accuracy improve?"
   ],
   "metadata": {
    "collapsed": false
   },
   "id": "171211cdd575c140"
  }
 ],
 "metadata": {
  "kernelspec": {
   "display_name": "Python 3",
   "language": "python",
   "name": "python3"
  },
  "language_info": {
   "codemirror_mode": {
    "name": "ipython",
    "version": 2
   },
   "file_extension": ".py",
   "mimetype": "text/x-python",
   "name": "python",
   "nbconvert_exporter": "python",
   "pygments_lexer": "ipython2",
   "version": "2.7.6"
  }
 },
 "nbformat": 4,
 "nbformat_minor": 5
}
